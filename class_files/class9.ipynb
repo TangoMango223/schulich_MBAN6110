{
 "cells": [
  {
   "cell_type": "code",
   "execution_count": null,
   "metadata": {},
   "outputs": [],
   "source": [
    "# -- Class 9 Notes --\n",
    "\n",
    "# Class overview:\n",
    "# Pipelines steps\n",
    "# Cross Validations\n",
    "# Classifier - Logistic Regression\n",
    "# Precision, Recall, F1 score, accuracy score, confusion matrix and analysis"
   ]
  },
  {
   "cell_type": "code",
   "execution_count": null,
   "metadata": {},
   "outputs": [],
   "source": []
  }
 ],
 "metadata": {
  "kernelspec": {
   "display_name": "base",
   "language": "python",
   "name": "python3"
  },
  "language_info": {
   "name": "python",
   "version": "3.11.9"
  }
 },
 "nbformat": 4,
 "nbformat_minor": 2
}
