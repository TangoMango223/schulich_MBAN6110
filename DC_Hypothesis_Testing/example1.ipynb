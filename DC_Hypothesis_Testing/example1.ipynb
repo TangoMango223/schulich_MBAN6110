{
 "cells": [
  {
   "cell_type": "code",
   "execution_count": 1,
   "metadata": {},
   "outputs": [],
   "source": [
    "# Import Statements\n",
    "\n",
    "import numpy as np\n",
    "import pandas as pd\n",
    "import matplotlib.pyplot as plt\n",
    "import seaborn as sns"
   ]
  },
  {
   "cell_type": "code",
   "execution_count": null,
   "metadata": {},
   "outputs": [],
   "source": [
    "# EA Games example - A/B Testing\n",
    "\n",
    "# Was the 43% difference in more purchases with Control Group higher than Test Group - statistically significant?\n",
    "\n",
    "# Import stack overflow csv data:\n"
   ]
  },
  {
   "cell_type": "code",
   "execution_count": 2,
   "metadata": {},
   "outputs": [
    {
     "ename": "NameError",
     "evalue": "name 'stack_overflow' is not defined",
     "output_type": "error",
     "traceback": [
      "\u001b[0;31m---------------------------------------------------------------------------\u001b[0m",
      "\u001b[0;31mNameError\u001b[0m                                 Traceback (most recent call last)",
      "Cell \u001b[0;32mIn[2], line 3\u001b[0m\n\u001b[1;32m      1\u001b[0m \u001b[38;5;66;03m# Hypothesis around the mean\u001b[39;00m\n\u001b[0;32m----> 3\u001b[0m \u001b[38;5;28mprint\u001b[39m(stack_overflow)\n",
      "\u001b[0;31mNameError\u001b[0m: name 'stack_overflow' is not defined"
     ]
    }
   ],
   "source": [
    "# Hypothesis around the mean\n",
    "\n",
    "print(stack_overflow)\n",
    "\n",
    "# Hypothesis: Mean annual compensation is $110,000 for data scientists\n",
    "# Point estimation, mean()\n",
    "\n",
    "# Annual compensation is\n",
    "\n",
    "mean_comp_samp = stack_overflow[\"converted_comp\"].mean()\n",
    "\n"
   ]
  }
 ],
 "metadata": {
  "kernelspec": {
   "display_name": "base",
   "language": "python",
   "name": "python3"
  },
  "language_info": {
   "codemirror_mode": {
    "name": "ipython",
    "version": 3
   },
   "file_extension": ".py",
   "mimetype": "text/x-python",
   "name": "python",
   "nbconvert_exporter": "python",
   "pygments_lexer": "ipython3",
   "version": "3.11.5"
  }
 },
 "nbformat": 4,
 "nbformat_minor": 2
}
