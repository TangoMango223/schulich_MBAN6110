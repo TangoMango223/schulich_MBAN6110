{
 "cells": [
  {
   "cell_type": "code",
   "execution_count": 3,
   "metadata": {},
   "outputs": [
    {
     "name": "stdout",
     "output_type": "stream",
     "text": [
      "Feather file has been converted to CSV and saved as /Users/christine/Desktop/Feathers/dem_votes_potus_12_16.csv\n",
      "Feather file has been converted to CSV and saved as /Users/christine/Desktop/Feathers/late_shipments.csv\n",
      "Feather file has been converted to CSV and saved as /Users/christine/Desktop/Feathers/repub_votes_potus_08_12.csv\n",
      "Feather file has been converted to CSV and saved as /Users/christine/Desktop/Feathers/stack_overflow.csv\n"
     ]
    }
   ],
   "source": [
    "# Convert file from Feathers -> CSV due to feathers being used by DC\n",
    "import pandas as pd\n",
    "import os\n",
    "\n",
    "# File names:\n",
    "name_list = [\"dem_votes_potus_12_16\", \"late_shipments\",\"repub_votes_potus_08_12\", \"stack_overflow\"]\n",
    "\n",
    "# Path to the Feather file\n",
    "for name in name_list:\n",
    "    feather_file_path = f'/Users/christine/VSCode/MBAN 6110 - remote/schulich_MBAN6110/DC_Hypothesis_Testing/{name}.feather'\n",
    "    # Path to save the CSV file (including the file name and .csv extension)\n",
    "    csv_file_path = f'/Users/christine/Desktop/Feathers/{name}.csv'\n",
    "\n",
    "    # Ensure the output directory exists\n",
    "    output_dir = os.path.dirname(csv_file_path)\n",
    "    os.makedirs(output_dir, exist_ok=True)\n",
    "\n",
    "    # Read the Feather file\n",
    "    df = pd.read_feather(feather_file_path)\n",
    "\n",
    "    # Write the DataFrame to a CSV file\n",
    "    df.to_csv(csv_file_path, index=False)\n",
    "\n",
    "    print(f'Feather file has been converted to CSV and saved as {csv_file_path}')"
   ]
  }
 ],
 "metadata": {
  "kernelspec": {
   "display_name": "base",
   "language": "python",
   "name": "python3"
  },
  "language_info": {
   "codemirror_mode": {
    "name": "ipython",
    "version": 3
   },
   "file_extension": ".py",
   "mimetype": "text/x-python",
   "name": "python",
   "nbconvert_exporter": "python",
   "pygments_lexer": "ipython3",
   "version": "3.11.5"
  }
 },
 "nbformat": 4,
 "nbformat_minor": 2
}
