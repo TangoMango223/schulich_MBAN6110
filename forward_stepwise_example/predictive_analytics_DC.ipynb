{
 "cells": [
  {
   "cell_type": "markdown",
   "metadata": {},
   "source": [
    "# Forward Step Wise Variable Selection for Dummies"
   ]
  },
  {
   "cell_type": "code",
   "execution_count": 251,
   "metadata": {},
   "outputs": [],
   "source": [
    "# Import status\n",
    "import pandas as pd\n",
    "from sklearn import linear_model\n",
    "from sklearn.metrics import roc_auc_score\n",
    "import numpy as np\n",
    "\n",
    "# import for matplotlib\n",
    "import matplotlib.pyplot as plt"
   ]
  },
  {
   "cell_type": "code",
   "execution_count": 132,
   "metadata": {},
   "outputs": [],
   "source": [
    "# Read in basetable_ex2_4\n",
    "df = pd.read_csv(\"https://raw.githubusercontent.com/TangoMango223/schulich_MBAN6110/main/forward_stepwise_example/basetable_ex2_4.csv\")"
   ]
  },
  {
   "cell_type": "code",
   "execution_count": 133,
   "metadata": {},
   "outputs": [
    {
     "data": {
      "text/html": [
       "<div>\n",
       "<style scoped>\n",
       "    .dataframe tbody tr th:only-of-type {\n",
       "        vertical-align: middle;\n",
       "    }\n",
       "\n",
       "    .dataframe tbody tr th {\n",
       "        vertical-align: top;\n",
       "    }\n",
       "\n",
       "    .dataframe thead th {\n",
       "        text-align: right;\n",
       "    }\n",
       "</style>\n",
       "<table border=\"1\" class=\"dataframe\">\n",
       "  <thead>\n",
       "    <tr style=\"text-align: right;\">\n",
       "      <th></th>\n",
       "      <th>target</th>\n",
       "      <th>gender_F</th>\n",
       "      <th>income_high</th>\n",
       "      <th>income_low</th>\n",
       "      <th>country_USA</th>\n",
       "      <th>country_India</th>\n",
       "      <th>country_UK</th>\n",
       "      <th>age</th>\n",
       "      <th>time_since_last_gift</th>\n",
       "      <th>time_since_first_gift</th>\n",
       "      <th>max_gift</th>\n",
       "      <th>min_gift</th>\n",
       "      <th>mean_gift</th>\n",
       "      <th>number_gift</th>\n",
       "    </tr>\n",
       "  </thead>\n",
       "  <tbody>\n",
       "    <tr>\n",
       "      <th>0</th>\n",
       "      <td>0</td>\n",
       "      <td>1</td>\n",
       "      <td>0</td>\n",
       "      <td>1</td>\n",
       "      <td>0</td>\n",
       "      <td>1</td>\n",
       "      <td>0</td>\n",
       "      <td>65</td>\n",
       "      <td>530</td>\n",
       "      <td>2265</td>\n",
       "      <td>166.0</td>\n",
       "      <td>87.0</td>\n",
       "      <td>116.00</td>\n",
       "      <td>7</td>\n",
       "    </tr>\n",
       "    <tr>\n",
       "      <th>1</th>\n",
       "      <td>0</td>\n",
       "      <td>1</td>\n",
       "      <td>0</td>\n",
       "      <td>0</td>\n",
       "      <td>0</td>\n",
       "      <td>1</td>\n",
       "      <td>0</td>\n",
       "      <td>71</td>\n",
       "      <td>715</td>\n",
       "      <td>715</td>\n",
       "      <td>90.0</td>\n",
       "      <td>90.0</td>\n",
       "      <td>90.00</td>\n",
       "      <td>1</td>\n",
       "    </tr>\n",
       "    <tr>\n",
       "      <th>2</th>\n",
       "      <td>0</td>\n",
       "      <td>1</td>\n",
       "      <td>0</td>\n",
       "      <td>0</td>\n",
       "      <td>0</td>\n",
       "      <td>1</td>\n",
       "      <td>0</td>\n",
       "      <td>28</td>\n",
       "      <td>150</td>\n",
       "      <td>1806</td>\n",
       "      <td>125.0</td>\n",
       "      <td>74.0</td>\n",
       "      <td>96.00</td>\n",
       "      <td>9</td>\n",
       "    </tr>\n",
       "    <tr>\n",
       "      <th>3</th>\n",
       "      <td>0</td>\n",
       "      <td>1</td>\n",
       "      <td>0</td>\n",
       "      <td>1</td>\n",
       "      <td>1</td>\n",
       "      <td>0</td>\n",
       "      <td>0</td>\n",
       "      <td>52</td>\n",
       "      <td>725</td>\n",
       "      <td>2274</td>\n",
       "      <td>117.0</td>\n",
       "      <td>97.0</td>\n",
       "      <td>104.25</td>\n",
       "      <td>4</td>\n",
       "    </tr>\n",
       "    <tr>\n",
       "      <th>4</th>\n",
       "      <td>0</td>\n",
       "      <td>1</td>\n",
       "      <td>1</td>\n",
       "      <td>0</td>\n",
       "      <td>1</td>\n",
       "      <td>0</td>\n",
       "      <td>0</td>\n",
       "      <td>82</td>\n",
       "      <td>805</td>\n",
       "      <td>805</td>\n",
       "      <td>80.0</td>\n",
       "      <td>80.0</td>\n",
       "      <td>80.00</td>\n",
       "      <td>1</td>\n",
       "    </tr>\n",
       "  </tbody>\n",
       "</table>\n",
       "</div>"
      ],
      "text/plain": [
       "   target  gender_F  income_high  income_low  country_USA  country_India  \\\n",
       "0       0         1            0           1            0              1   \n",
       "1       0         1            0           0            0              1   \n",
       "2       0         1            0           0            0              1   \n",
       "3       0         1            0           1            1              0   \n",
       "4       0         1            1           0            1              0   \n",
       "\n",
       "   country_UK  age  time_since_last_gift  time_since_first_gift  max_gift  \\\n",
       "0           0   65                   530                   2265     166.0   \n",
       "1           0   71                   715                    715      90.0   \n",
       "2           0   28                   150                   1806     125.0   \n",
       "3           0   52                   725                   2274     117.0   \n",
       "4           0   82                   805                    805      80.0   \n",
       "\n",
       "   min_gift  mean_gift  number_gift  \n",
       "0      87.0     116.00            7  \n",
       "1      90.0      90.00            1  \n",
       "2      74.0      96.00            9  \n",
       "3      97.0     104.25            4  \n",
       "4      80.0      80.00            1  "
      ]
     },
     "execution_count": 133,
     "metadata": {},
     "output_type": "execute_result"
    }
   ],
   "source": [
    "# Check dataframe\n",
    "df.head()"
   ]
  },
  {
   "cell_type": "code",
   "execution_count": 134,
   "metadata": {},
   "outputs": [],
   "source": [
    "# Algorithm for AUC and forward pass step forward model\n",
    "# Assume you understand the logic already.\n",
    "\n",
    "# Requirements:\n",
    "# A function to calculate AUC\n",
    "# A function to return the \"next_best\", or the highest AUC. \n",
    "# A loop to go thru this, and remove that next_best"
   ]
  },
  {
   "cell_type": "code",
   "execution_count": 135,
   "metadata": {},
   "outputs": [],
   "source": [
    "# Define the AUC score function\n",
    "# Takes in the data source table - basetable, variables and target\n",
    "\n",
    "def auc(variables, target, basetable):\n",
    "\n",
    "    # Define the variables for initialization\n",
    "    X = basetable[variables]\n",
    "    y = basetable [target]\n",
    "\n",
    "    # Train the logistic regression model\n",
    "    logreg = linear_model.LogisticRegression()\n",
    "\n",
    "    # Fit the model. Has been trained\n",
    "    logreg.fit(X,y)\n",
    "\n",
    "    # Create predictions from X. Technically there should be a train-test split, but whatever...\n",
    "    # We take the entire basetable variables, which is X, and then we take all of whatever is in 2nd Column, or \"1\"\n",
    "    # Why do we do that --> predictions give an array of results (A,B), where A is a num if Target = 0 \n",
    "    # B where num if Target = 1 - what we are looking for!! \n",
    "\n",
    "    predictions = logreg.predict_proba(X)[:,1]\n",
    "\n",
    "    # Calculate AUC score. Need true y and the predictions\n",
    "    auc_score = roc_auc_score(y, predictions)\n",
    "\n",
    "    return auc_score"
   ]
  },
  {
   "cell_type": "code",
   "execution_count": 136,
   "metadata": {},
   "outputs": [
    {
     "name": "stderr",
     "output_type": "stream",
     "text": [
      "/Users/christine/anaconda3/lib/python3.11/site-packages/sklearn/utils/validation.py:1300: DataConversionWarning: A column-vector y was passed when a 1d array was expected. Please change the shape of y to (n_samples, ), for example using ravel().\n",
      "  y = column_or_1d(y, warn=True)\n"
     ]
    },
    {
     "data": {
      "text/plain": [
       "0.519594279083611"
      ]
     },
     "execution_count": 136,
     "metadata": {},
     "output_type": "execute_result"
    }
   ],
   "source": [
    "# Use the AUC score function\n",
    "# note that df is the \"base table\".\n",
    "# Our AUC function works!\n",
    "\n",
    "call = auc([\"gender_F\",\"country_USA\"], [\"target\"], df)\n",
    "call"
   ]
  },
  {
   "cell_type": "code",
   "execution_count": 137,
   "metadata": {},
   "outputs": [],
   "source": [
    "# Calculate Next Best function.\n",
    "# This function is critical, it will loop thru and select the best one\n",
    "\n",
    "def next_best(current_variables, candidate_variables, target, basetable):\n",
    "\n",
    "    # Set up.\n",
    "    best_auc = -1 # Pick an initialization lower than 0. Otherwise the evaluation step will not work.\n",
    "    best_variable = None\n",
    "\n",
    "    # Loop thru the candidate variables given the current ones..\n",
    "    # Remember, current variables tracks whatever is in the \"set\" of model variables selected for the model. Thru the logic.\n",
    "\n",
    "    # The evaluation, one by one:\n",
    "    for v in candidate_variables:\n",
    "        auc_v = auc(current_variables + [v], target, basetable)\n",
    "        \n",
    "        # The most important step - check if AUC is better or higher.\n",
    "        # This will only update if it's actually better...\n",
    "        if auc_v > best_auc:\n",
    "            best_auc = auc_v  # Update the best AUC\n",
    "            best_variable  = v\n",
    "        \n",
    "    return best_variable"
   ]
  },
  {
   "cell_type": "code",
   "execution_count": 138,
   "metadata": {},
   "outputs": [
    {
     "name": "stderr",
     "output_type": "stream",
     "text": [
      "/Users/christine/anaconda3/lib/python3.11/site-packages/sklearn/utils/validation.py:1300: DataConversionWarning: A column-vector y was passed when a 1d array was expected. Please change the shape of y to (n_samples, ), for example using ravel().\n",
      "  y = column_or_1d(y, warn=True)\n",
      "/Users/christine/anaconda3/lib/python3.11/site-packages/sklearn/utils/validation.py:1300: DataConversionWarning: A column-vector y was passed when a 1d array was expected. Please change the shape of y to (n_samples, ), for example using ravel().\n",
      "  y = column_or_1d(y, warn=True)\n",
      "/Users/christine/anaconda3/lib/python3.11/site-packages/sklearn/utils/validation.py:1300: DataConversionWarning: A column-vector y was passed when a 1d array was expected. Please change the shape of y to (n_samples, ), for example using ravel().\n",
      "  y = column_or_1d(y, warn=True)\n"
     ]
    },
    {
     "data": {
      "text/plain": [
       "'max_gift'"
      ]
     },
     "execution_count": 138,
     "metadata": {},
     "output_type": "execute_result"
    }
   ],
   "source": [
    "# Test it works\n",
    "current_variables = [\"age\", \"gender_F\"] # They passed the test, are already in the model set\n",
    "candidate_variables = [\"min_gift\", \"max_gift\", \"mean_gift\"]\n",
    "\n",
    "next_variable = next_best(current_variables, candidate_variables, [\"target\"], df)\n",
    "next_variable\n"
   ]
  },
  {
   "cell_type": "code",
   "execution_count": 139,
   "metadata": {},
   "outputs": [
    {
     "name": "stderr",
     "output_type": "stream",
     "text": [
      "/Users/christine/anaconda3/lib/python3.11/site-packages/sklearn/utils/validation.py:1300: DataConversionWarning: A column-vector y was passed when a 1d array was expected. Please change the shape of y to (n_samples, ), for example using ravel().\n",
      "  y = column_or_1d(y, warn=True)\n",
      "/Users/christine/anaconda3/lib/python3.11/site-packages/sklearn/utils/validation.py:1300: DataConversionWarning: A column-vector y was passed when a 1d array was expected. Please change the shape of y to (n_samples, ), for example using ravel().\n",
      "  y = column_or_1d(y, warn=True)\n",
      "/Users/christine/anaconda3/lib/python3.11/site-packages/sklearn/utils/validation.py:1300: DataConversionWarning: A column-vector y was passed when a 1d array was expected. Please change the shape of y to (n_samples, ), for example using ravel().\n",
      "  y = column_or_1d(y, warn=True)\n",
      "/Users/christine/anaconda3/lib/python3.11/site-packages/sklearn/utils/validation.py:1300: DataConversionWarning: A column-vector y was passed when a 1d array was expected. Please change the shape of y to (n_samples, ), for example using ravel().\n",
      "  y = column_or_1d(y, warn=True)\n",
      "/Users/christine/anaconda3/lib/python3.11/site-packages/sklearn/utils/validation.py:1300: DataConversionWarning: A column-vector y was passed when a 1d array was expected. Please change the shape of y to (n_samples, ), for example using ravel().\n",
      "  y = column_or_1d(y, warn=True)\n",
      "/Users/christine/anaconda3/lib/python3.11/site-packages/sklearn/utils/validation.py:1300: DataConversionWarning: A column-vector y was passed when a 1d array was expected. Please change the shape of y to (n_samples, ), for example using ravel().\n",
      "  y = column_or_1d(y, warn=True)\n",
      "/Users/christine/anaconda3/lib/python3.11/site-packages/sklearn/utils/validation.py:1300: DataConversionWarning: A column-vector y was passed when a 1d array was expected. Please change the shape of y to (n_samples, ), for example using ravel().\n",
      "  y = column_or_1d(y, warn=True)\n",
      "/Users/christine/anaconda3/lib/python3.11/site-packages/sklearn/utils/validation.py:1300: DataConversionWarning: A column-vector y was passed when a 1d array was expected. Please change the shape of y to (n_samples, ), for example using ravel().\n",
      "  y = column_or_1d(y, warn=True)\n",
      "/Users/christine/anaconda3/lib/python3.11/site-packages/sklearn/utils/validation.py:1300: DataConversionWarning: A column-vector y was passed when a 1d array was expected. Please change the shape of y to (n_samples, ), for example using ravel().\n",
      "  y = column_or_1d(y, warn=True)\n",
      "/Users/christine/anaconda3/lib/python3.11/site-packages/sklearn/utils/validation.py:1300: DataConversionWarning: A column-vector y was passed when a 1d array was expected. Please change the shape of y to (n_samples, ), for example using ravel().\n",
      "  y = column_or_1d(y, warn=True)\n",
      "/Users/christine/anaconda3/lib/python3.11/site-packages/sklearn/utils/validation.py:1300: DataConversionWarning: A column-vector y was passed when a 1d array was expected. Please change the shape of y to (n_samples, ), for example using ravel().\n",
      "  y = column_or_1d(y, warn=True)\n",
      "/Users/christine/anaconda3/lib/python3.11/site-packages/sklearn/utils/validation.py:1300: DataConversionWarning: A column-vector y was passed when a 1d array was expected. Please change the shape of y to (n_samples, ), for example using ravel().\n",
      "  y = column_or_1d(y, warn=True)\n",
      "/Users/christine/anaconda3/lib/python3.11/site-packages/sklearn/utils/validation.py:1300: DataConversionWarning: A column-vector y was passed when a 1d array was expected. Please change the shape of y to (n_samples, ), for example using ravel().\n",
      "  y = column_or_1d(y, warn=True)\n",
      "/Users/christine/anaconda3/lib/python3.11/site-packages/sklearn/utils/validation.py:1300: DataConversionWarning: A column-vector y was passed when a 1d array was expected. Please change the shape of y to (n_samples, ), for example using ravel().\n",
      "  y = column_or_1d(y, warn=True)\n",
      "/Users/christine/anaconda3/lib/python3.11/site-packages/sklearn/utils/validation.py:1300: DataConversionWarning: A column-vector y was passed when a 1d array was expected. Please change the shape of y to (n_samples, ), for example using ravel().\n",
      "  y = column_or_1d(y, warn=True)\n",
      "/Users/christine/anaconda3/lib/python3.11/site-packages/sklearn/utils/validation.py:1300: DataConversionWarning: A column-vector y was passed when a 1d array was expected. Please change the shape of y to (n_samples, ), for example using ravel().\n",
      "  y = column_or_1d(y, warn=True)\n",
      "/Users/christine/anaconda3/lib/python3.11/site-packages/sklearn/utils/validation.py:1300: DataConversionWarning: A column-vector y was passed when a 1d array was expected. Please change the shape of y to (n_samples, ), for example using ravel().\n",
      "  y = column_or_1d(y, warn=True)\n",
      "/Users/christine/anaconda3/lib/python3.11/site-packages/sklearn/utils/validation.py:1300: DataConversionWarning: A column-vector y was passed when a 1d array was expected. Please change the shape of y to (n_samples, ), for example using ravel().\n",
      "  y = column_or_1d(y, warn=True)\n",
      "/Users/christine/anaconda3/lib/python3.11/site-packages/sklearn/utils/validation.py:1300: DataConversionWarning: A column-vector y was passed when a 1d array was expected. Please change the shape of y to (n_samples, ), for example using ravel().\n",
      "  y = column_or_1d(y, warn=True)\n",
      "/Users/christine/anaconda3/lib/python3.11/site-packages/sklearn/utils/validation.py:1300: DataConversionWarning: A column-vector y was passed when a 1d array was expected. Please change the shape of y to (n_samples, ), for example using ravel().\n",
      "  y = column_or_1d(y, warn=True)\n",
      "/Users/christine/anaconda3/lib/python3.11/site-packages/sklearn/utils/validation.py:1300: DataConversionWarning: A column-vector y was passed when a 1d array was expected. Please change the shape of y to (n_samples, ), for example using ravel().\n",
      "  y = column_or_1d(y, warn=True)\n",
      "/Users/christine/anaconda3/lib/python3.11/site-packages/sklearn/utils/validation.py:1300: DataConversionWarning: A column-vector y was passed when a 1d array was expected. Please change the shape of y to (n_samples, ), for example using ravel().\n",
      "  y = column_or_1d(y, warn=True)\n",
      "/Users/christine/anaconda3/lib/python3.11/site-packages/sklearn/utils/validation.py:1300: DataConversionWarning: A column-vector y was passed when a 1d array was expected. Please change the shape of y to (n_samples, ), for example using ravel().\n",
      "  y = column_or_1d(y, warn=True)\n",
      "/Users/christine/anaconda3/lib/python3.11/site-packages/sklearn/utils/validation.py:1300: DataConversionWarning: A column-vector y was passed when a 1d array was expected. Please change the shape of y to (n_samples, ), for example using ravel().\n",
      "  y = column_or_1d(y, warn=True)\n",
      "/Users/christine/anaconda3/lib/python3.11/site-packages/sklearn/utils/validation.py:1300: DataConversionWarning: A column-vector y was passed when a 1d array was expected. Please change the shape of y to (n_samples, ), for example using ravel().\n",
      "  y = column_or_1d(y, warn=True)\n"
     ]
    }
   ],
   "source": [
    "# Create the looping process now\n",
    "\n",
    "current_variables = [] # They passed the test, are already in the model set\n",
    "candidate_variables = [\"min_gift\",  \"max_gift\", \"mean_gift\", \"age\", \"gender_F\", \"country_USA\", \"income_low\"]\n",
    "\n",
    "# Limit the total iterations:\n",
    "max_iterations = 5\n",
    "num_iterations = min(max_iterations, len(candidate_variables))\n",
    "\n",
    "# Looping process\n",
    "for i in range (0,num_iterations):\n",
    "    # Pick the next_best from a list of the candidate variables\n",
    "    next_var_selection = next_best(current_variables, candidate_variables, [\"target\"], df)\n",
    "\n",
    "    # Update and add the best one to the current_variables list\n",
    "    current_variables.append(next_var_selection)\n",
    "\n",
    "    # Remove from candidate list and continue the process\n",
    "    candidate_variables.remove(next_var_selection)\n"
   ]
  },
  {
   "cell_type": "code",
   "execution_count": 140,
   "metadata": {},
   "outputs": [
    {
     "name": "stdout",
     "output_type": "stream",
     "text": [
      "0.7155429426932984\n"
     ]
    },
    {
     "name": "stderr",
     "output_type": "stream",
     "text": [
      "/Users/christine/anaconda3/lib/python3.11/site-packages/sklearn/utils/validation.py:1300: DataConversionWarning: A column-vector y was passed when a 1d array was expected. Please change the shape of y to (n_samples, ), for example using ravel().\n",
      "  y = column_or_1d(y, warn=True)\n"
     ]
    }
   ],
   "source": [
    "# Test that it works\n",
    "call = auc(current_variables, [\"target\"], df)\n",
    "print(call)"
   ]
  },
  {
   "cell_type": "code",
   "execution_count": 141,
   "metadata": {},
   "outputs": [
    {
     "name": "stdout",
     "output_type": "stream",
     "text": [
      "0.76\n"
     ]
    }
   ],
   "source": [
    "# Important step is to check correlations...\n",
    "correlation = np.corrcoef(df[\"min_gift\"], df[\"mean_gift\"])[0,1]\n",
    "print(round(correlation,2))\n",
    "\n",
    "# Just like how df.corr() checks Pearson-R for linear correlation, there is also np.corrcoef\n"
   ]
  },
  {
   "cell_type": "markdown",
   "metadata": {},
   "source": [
    "# Partition in Python"
   ]
  },
  {
   "cell_type": "code",
   "execution_count": 142,
   "metadata": {},
   "outputs": [],
   "source": [
    "# Why we do partition?\n",
    "# Split training and testing variables\n",
    "# This reduces overfitting, and the testing dataset will be "
   ]
  },
  {
   "cell_type": "code",
   "execution_count": 143,
   "metadata": {},
   "outputs": [],
   "source": [
    "# Import packages\n",
    "from sklearn.model_selection import train_test_split # this will help us "
   ]
  },
  {
   "cell_type": "code",
   "execution_count": 144,
   "metadata": {},
   "outputs": [],
   "source": [
    "# Set up:\n",
    "X = df.drop(\"target\", axis = 1)\n",
    "y = df[\"target\"]\n",
    "\n",
    "# Train/test split\n",
    "# stratify on the \"y\" , which is target. Equal split.\n",
    "X_train, X_test, y_train, y_test  = train_test_split(X,y, test_size = 0.4, stratify= y)\n",
    "\n",
    "# Concat the df:\n",
    "train = pd.concat([X_train, y_train], axis = 1)\n",
    "test = pd.concat([X_test, y_test], axis = 1)\n"
   ]
  },
  {
   "cell_type": "code",
   "execution_count": 145,
   "metadata": {},
   "outputs": [],
   "source": [
    "# Import\n",
    "# Load the partitioning module\n",
    "from sklearn.model_selection import train_test_split"
   ]
  },
  {
   "cell_type": "code",
   "execution_count": 146,
   "metadata": {},
   "outputs": [
    {
     "name": "stdout",
     "output_type": "stream",
     "text": [
      "0.05\n",
      "0.05\n"
     ]
    }
   ],
   "source": [
    "# Create DataFrames with variables and target\n",
    "X = df.drop([\"target\"], axis = 1)\n",
    "y = df[\"target\"]\n",
    "\n",
    "# Carry out 50-50 partititioning with stratification\n",
    "X_train, X_test, y_train, y_test = train_test_split(X, y, test_size = 0.5, stratify = y)\n",
    "\n",
    "# Create the final train and test basetables\n",
    "train = pd.concat([X_train, y_train], axis=1)\n",
    "test = pd.concat([X_test, y_test], axis=1)\n",
    "\n",
    "# Last part is checking\n",
    "\n",
    "# Check whether train and test have same percentage targets\n",
    "print(round(sum(train[\"target\"])/len(train), 2))\n",
    "print(round(sum(test[\"target\"])/len(test), 2))"
   ]
  },
  {
   "cell_type": "code",
   "execution_count": 147,
   "metadata": {},
   "outputs": [],
   "source": [
    "# Calculate AUC as well:\n",
    "\n",
    "# # Load the partitioning module\n",
    "# from sklearn.model_selection import train_test_split\n",
    "\n",
    "# # Create DataFrames with variables and target\n",
    "# X = df.drop('target', 1)\n",
    "# y = basetable[\"target\"]\n",
    "\n",
    "# # Carry out 70-30 partititioning with stratification\n",
    "# X_train, X_test, y_train, y_test = train_test_split(X, y, test_size = 0.3, stratify = y)\n",
    "\n",
    "# # Create the final train and test basetables\n",
    "# train = pd.concat([X_train, y_train], axis=1)\n",
    "# test = pd.concat([X_test, y_test], axis=1)\n",
    "\n",
    "#  # Apply the auc_train_test function\n",
    "# auc_train, auc_test = auc_train_test([\"age\", \"gender_F\"], [\"target\"], train, test)\n",
    "# print(round(auc_train,2))\n",
    "# print(round(auc_test,2))"
   ]
  },
  {
   "cell_type": "code",
   "execution_count": 148,
   "metadata": {},
   "outputs": [],
   "source": [
    "# # Plot the AUC curves:\n",
    "\n",
    "# # Keep track of train and test AUC values\n",
    "# auc_values_train = []\n",
    "# auc_values_test = []\n",
    "# variables_evaluate = []\n",
    "\n",
    "# variables = ['max_gift',\n",
    "#  'time_since_last_gift',\n",
    "#  'number_gift',\n",
    "#  'mean_gift',\n",
    "#  'income_high',\n",
    "#  'age',\n",
    "#  'gender_F',\n",
    "#  'time_since_first_gift',\n",
    "#  'income_low',\n",
    "#  'country_UK']\n",
    "\n",
    "# # Iterate over the variables in variables\n",
    "# for v in variables:\n",
    "  \n",
    "#     # Add the variable\n",
    "#     variables_evaluate.append(v)\n",
    "    \n",
    "#     # Calculate the train and test AUC of this set of variables\n",
    "#     auc_train, auc_test = auc_train_test(variables_evaluate, [\"target\"], train, test)\n",
    "\n",
    "#     # The auc_train_test function has the following:  auc_train_test(variables, target, train, test)\n",
    "    \n",
    "#     # Append the values to the lists\n",
    "#     auc_values_train.append(auc_train)\n",
    "#     auc_values_test.append(auc_test)\n",
    "    \n",
    "# # Make plot of the AUC values\n",
    "# import matplotlib.pyplot as plt\n",
    "# import numpy as np\n",
    "\n",
    "# # Graphing code explained\n",
    "\n",
    "# # Create the numbers from 0 to 9 for the plot\n",
    "# x = np.array(range(0,len(auc_values_train)))\n",
    "\n",
    "# # Plot each curve. You need to convert auc_values_train and auc_values_test, since they're in list format, same numbers\n",
    "# y_train = np.array(auc_values_train)\n",
    "# y_test = np.array(auc_values_test)\n",
    "\n",
    "# # Plot as needed\n",
    "# plt.xticks(x, variables, rotation = 90) # variables has the same, x-ticks allows for equal plotting mapping\n",
    "# plt.plot(x,y_train)\n",
    "# plt.plot(x,y_test)\n",
    "# plt.ylim((0.6, 0.8))\n",
    "# plt.show()"
   ]
  },
  {
   "cell_type": "code",
   "execution_count": 149,
   "metadata": {},
   "outputs": [],
   "source": [
    "# Code to plot Cumulative Gains:\n",
    "\n",
    "# # Import the matplotlib.pyplot module \n",
    "# import matplotlib.pyplot as plt\n",
    "\n",
    "# # Import the scikitplot module\n",
    "# import scikitplot as skplt\n",
    "\n",
    "# # Plot the cumulative gains graph\n",
    "# skplt.metrics.plot_cumulative_gain(targets_test, predictions_test)\n",
    "# plt.show()"
   ]
  },
  {
   "cell_type": "code",
   "execution_count": 150,
   "metadata": {},
   "outputs": [],
   "source": [
    "# Cumulative Gains curve\n",
    "\n",
    "# # Import the modules\n",
    "# import random\n",
    "# import matplotlib.pyplot as plt\n",
    "# import scikitplot as skplt\n",
    "\n",
    "# # Generate random predictions\n",
    "# random_predictions = [random.uniform(0,1) for _ in range(len(targets_test))]\n",
    "\n",
    "# # Adjust random predictions\n",
    "# random_predictions = [(r, 1 - r) for r in random_predictions]\n",
    "\n",
    "# # Plot the cumulative gains graph\n",
    "# skplt.metrics.plot_cumulative_gain(targets_test, random_predictions)\n",
    "# plt.show()"
   ]
  },
  {
   "cell_type": "code",
   "execution_count": 151,
   "metadata": {},
   "outputs": [],
   "source": [
    "# Profit estimation\n",
    "\n",
    "# Metrics\n",
    "population_size = 100000\n",
    "target_incidence = 0.05\n",
    "reward_target = 50\n",
    "cost_campaign = 2\n",
    "\n",
    "\n",
    "# perc_selected = 0.2 # We are targetting top 20% of all donors\n",
    "# perc_targets = 0.1\n",
    "\n",
    "# Function\n",
    "def profit(perc_targets, perc_selected, population_size, reward_target, cost_campaign):\n",
    "\n",
    "    # We are mailing everyone in the population size of 100,000 people. \n",
    "    # Although we know the average incidence rate is 5%, it doesn't mean that it's consistently 5%, for example, top 20% of people might be donors at a higher rate\n",
    "    cost = cost_campaign * perc_selected * population_size\n",
    "    print(cost)\n",
    "\n",
    "    # Calculate the reward\n",
    "    reward = reward_target * perc_targets * perc_selected * population_size\n",
    "    print(reward)\n",
    "\n",
    "    # Return\n",
    "    return (reward - cost)\n",
    "\n",
    "\n",
    "# Remember, the target incidence rate tells you NOTHING\n",
    "# It is the average target rate where t = 1\n",
    "#  What you care about is, at different probabilities or different top percentages, what the containment of the target % is\n",
    "\n",
    "# For example, average incident rate may be 5% across all groups\n",
    "# Let's say donors rate\n",
    "# It doesn't mean \n",
    "\n"
   ]
  },
  {
   "cell_type": "code",
   "execution_count": 152,
   "metadata": {},
   "outputs": [
    {
     "name": "stdout",
     "output_type": "stream",
     "text": [
      "0.1\n",
      "40000.0\n",
      "100000.0\n",
      "60000.0\n"
     ]
    }
   ],
   "source": [
    "# top 20% of donors\n",
    "perc_selected = 0.2\n",
    "lift = 2\n",
    "\n",
    "# This means 2 x 5% means 10% of targets will be actually reached, not 5%\n",
    "perc_targets = target_incidence * lift # in the population of the top 20%, we actually achieve realization of 2.5 x 5%\n",
    "print(perc_targets)\n",
    "\n",
    "print(profit(perc_targets, perc_selected, population_size, reward_target, cost_campaign))"
   ]
  },
  {
   "cell_type": "code",
   "execution_count": 153,
   "metadata": {},
   "outputs": [
    {
     "name": "stdout",
     "output_type": "stream",
     "text": [
      "20000.0\n"
     ]
    },
    {
     "data": {
      "text/plain": [
       "0.8"
      ]
     },
     "execution_count": 153,
     "metadata": {},
     "output_type": "execute_result"
    }
   ],
   "source": [
    "expected_donors = (1000000 * 0.02)\n",
    "print(expected_donors)\n",
    "perc_targets = 16000 / expected_donors\n",
    "perc_targets"
   ]
  },
  {
   "cell_type": "markdown",
   "metadata": {},
   "source": [
    "# Discretization of Continous Variables in Python"
   ]
  },
  {
   "cell_type": "code",
   "execution_count": 154,
   "metadata": {},
   "outputs": [],
   "source": [
    "# Example of discretization in Python\n",
    "\n",
    "variable = \"max_gift\" # this is in the df data\n",
    "number_bins = 3 # desired groupings\n",
    "\n",
    "df[\"disc_max_gift\"] = pd.qcut(df[variable], number_bins)"
   ]
  },
  {
   "cell_type": "code",
   "execution_count": 155,
   "metadata": {},
   "outputs": [
    {
     "data": {
      "text/plain": [
       "3"
      ]
     },
     "execution_count": 155,
     "metadata": {},
     "output_type": "execute_result"
    }
   ],
   "source": [
    "# View later\n",
    "df[\"disc_max_gift\"].value_counts()\n",
    "\n",
    "len(df[\"disc_max_gift\"].value_counts())"
   ]
  },
  {
   "cell_type": "code",
   "execution_count": 156,
   "metadata": {},
   "outputs": [
    {
     "data": {
      "text/html": [
       "<div>\n",
       "<style scoped>\n",
       "    .dataframe tbody tr th:only-of-type {\n",
       "        vertical-align: middle;\n",
       "    }\n",
       "\n",
       "    .dataframe tbody tr th {\n",
       "        vertical-align: top;\n",
       "    }\n",
       "\n",
       "    .dataframe thead th {\n",
       "        text-align: right;\n",
       "    }\n",
       "</style>\n",
       "<table border=\"1\" class=\"dataframe\">\n",
       "  <thead>\n",
       "    <tr style=\"text-align: right;\">\n",
       "      <th></th>\n",
       "      <th>target</th>\n",
       "      <th>gender_F</th>\n",
       "      <th>income_high</th>\n",
       "      <th>income_low</th>\n",
       "      <th>country_USA</th>\n",
       "      <th>country_India</th>\n",
       "      <th>country_UK</th>\n",
       "      <th>age</th>\n",
       "      <th>time_since_last_gift</th>\n",
       "      <th>time_since_first_gift</th>\n",
       "      <th>max_gift</th>\n",
       "      <th>min_gift</th>\n",
       "      <th>mean_gift</th>\n",
       "      <th>number_gift</th>\n",
       "      <th>disc_max_gift</th>\n",
       "    </tr>\n",
       "  </thead>\n",
       "  <tbody>\n",
       "    <tr>\n",
       "      <th>0</th>\n",
       "      <td>0</td>\n",
       "      <td>1</td>\n",
       "      <td>0</td>\n",
       "      <td>1</td>\n",
       "      <td>0</td>\n",
       "      <td>1</td>\n",
       "      <td>0</td>\n",
       "      <td>65</td>\n",
       "      <td>530</td>\n",
       "      <td>2265</td>\n",
       "      <td>166.0</td>\n",
       "      <td>87.0</td>\n",
       "      <td>116.00</td>\n",
       "      <td>7</td>\n",
       "      <td>(120.0, 194.0]</td>\n",
       "    </tr>\n",
       "    <tr>\n",
       "      <th>1</th>\n",
       "      <td>0</td>\n",
       "      <td>1</td>\n",
       "      <td>0</td>\n",
       "      <td>0</td>\n",
       "      <td>0</td>\n",
       "      <td>1</td>\n",
       "      <td>0</td>\n",
       "      <td>71</td>\n",
       "      <td>715</td>\n",
       "      <td>715</td>\n",
       "      <td>90.0</td>\n",
       "      <td>90.0</td>\n",
       "      <td>90.00</td>\n",
       "      <td>1</td>\n",
       "      <td>(17.999, 104.0]</td>\n",
       "    </tr>\n",
       "    <tr>\n",
       "      <th>2</th>\n",
       "      <td>0</td>\n",
       "      <td>1</td>\n",
       "      <td>0</td>\n",
       "      <td>0</td>\n",
       "      <td>0</td>\n",
       "      <td>1</td>\n",
       "      <td>0</td>\n",
       "      <td>28</td>\n",
       "      <td>150</td>\n",
       "      <td>1806</td>\n",
       "      <td>125.0</td>\n",
       "      <td>74.0</td>\n",
       "      <td>96.00</td>\n",
       "      <td>9</td>\n",
       "      <td>(120.0, 194.0]</td>\n",
       "    </tr>\n",
       "    <tr>\n",
       "      <th>3</th>\n",
       "      <td>0</td>\n",
       "      <td>1</td>\n",
       "      <td>0</td>\n",
       "      <td>1</td>\n",
       "      <td>1</td>\n",
       "      <td>0</td>\n",
       "      <td>0</td>\n",
       "      <td>52</td>\n",
       "      <td>725</td>\n",
       "      <td>2274</td>\n",
       "      <td>117.0</td>\n",
       "      <td>97.0</td>\n",
       "      <td>104.25</td>\n",
       "      <td>4</td>\n",
       "      <td>(104.0, 120.0]</td>\n",
       "    </tr>\n",
       "    <tr>\n",
       "      <th>4</th>\n",
       "      <td>0</td>\n",
       "      <td>1</td>\n",
       "      <td>1</td>\n",
       "      <td>0</td>\n",
       "      <td>1</td>\n",
       "      <td>0</td>\n",
       "      <td>0</td>\n",
       "      <td>82</td>\n",
       "      <td>805</td>\n",
       "      <td>805</td>\n",
       "      <td>80.0</td>\n",
       "      <td>80.0</td>\n",
       "      <td>80.00</td>\n",
       "      <td>1</td>\n",
       "      <td>(17.999, 104.0]</td>\n",
       "    </tr>\n",
       "  </tbody>\n",
       "</table>\n",
       "</div>"
      ],
      "text/plain": [
       "   target  gender_F  income_high  income_low  country_USA  country_India  \\\n",
       "0       0         1            0           1            0              1   \n",
       "1       0         1            0           0            0              1   \n",
       "2       0         1            0           0            0              1   \n",
       "3       0         1            0           1            1              0   \n",
       "4       0         1            1           0            1              0   \n",
       "\n",
       "   country_UK  age  time_since_last_gift  time_since_first_gift  max_gift  \\\n",
       "0           0   65                   530                   2265     166.0   \n",
       "1           0   71                   715                    715      90.0   \n",
       "2           0   28                   150                   1806     125.0   \n",
       "3           0   52                   725                   2274     117.0   \n",
       "4           0   82                   805                    805      80.0   \n",
       "\n",
       "   min_gift  mean_gift  number_gift    disc_max_gift  \n",
       "0      87.0     116.00            7   (120.0, 194.0]  \n",
       "1      90.0      90.00            1  (17.999, 104.0]  \n",
       "2      74.0      96.00            9   (120.0, 194.0]  \n",
       "3      97.0     104.25            4   (104.0, 120.0]  \n",
       "4      80.0      80.00            1  (17.999, 104.0]  "
      ]
     },
     "execution_count": 156,
     "metadata": {},
     "output_type": "execute_result"
    }
   ],
   "source": [
    "df.head()"
   ]
  },
  {
   "cell_type": "code",
   "execution_count": 157,
   "metadata": {},
   "outputs": [],
   "source": [
    "# Function to automatically evaluate for you...\n",
    "\n",
    "variables_model = [\"income_low\", \"mean_gift\", \"min_gift\", \"gender_F\"]\n",
    "our_threshold = 5 # if a variable has more than 5 unique groupings, we should make bins or discretize it\n",
    "\n",
    "def check_discretize(basetable, variable_list, threshold, num_bins):\n",
    "    # Check condition for you\n",
    "    for v in variable_list:\n",
    "        if len(basetable[v].value_counts()) > threshold:\n",
    "            # Condition met and we shall be discretizing it:\n",
    "            basetable[f\"disc_{v}\"] = pd.qcut(df[v], num_bins)\n",
    "\n",
    "    return None"
   ]
  },
  {
   "cell_type": "code",
   "execution_count": 158,
   "metadata": {},
   "outputs": [],
   "source": [
    "# Check it works\n",
    "check_discretize(df, variables_model, our_threshold, 5)"
   ]
  },
  {
   "cell_type": "code",
   "execution_count": 159,
   "metadata": {},
   "outputs": [
    {
     "data": {
      "text/html": [
       "<div>\n",
       "<style scoped>\n",
       "    .dataframe tbody tr th:only-of-type {\n",
       "        vertical-align: middle;\n",
       "    }\n",
       "\n",
       "    .dataframe tbody tr th {\n",
       "        vertical-align: top;\n",
       "    }\n",
       "\n",
       "    .dataframe thead th {\n",
       "        text-align: right;\n",
       "    }\n",
       "</style>\n",
       "<table border=\"1\" class=\"dataframe\">\n",
       "  <thead>\n",
       "    <tr style=\"text-align: right;\">\n",
       "      <th></th>\n",
       "      <th>target</th>\n",
       "      <th>gender_F</th>\n",
       "      <th>income_high</th>\n",
       "      <th>income_low</th>\n",
       "      <th>country_USA</th>\n",
       "      <th>country_India</th>\n",
       "      <th>country_UK</th>\n",
       "      <th>age</th>\n",
       "      <th>time_since_last_gift</th>\n",
       "      <th>time_since_first_gift</th>\n",
       "      <th>max_gift</th>\n",
       "      <th>min_gift</th>\n",
       "      <th>mean_gift</th>\n",
       "      <th>number_gift</th>\n",
       "      <th>disc_max_gift</th>\n",
       "      <th>disc_mean_gift</th>\n",
       "      <th>disc_min_gift</th>\n",
       "    </tr>\n",
       "  </thead>\n",
       "  <tbody>\n",
       "    <tr>\n",
       "      <th>0</th>\n",
       "      <td>0</td>\n",
       "      <td>1</td>\n",
       "      <td>0</td>\n",
       "      <td>1</td>\n",
       "      <td>0</td>\n",
       "      <td>1</td>\n",
       "      <td>0</td>\n",
       "      <td>65</td>\n",
       "      <td>530</td>\n",
       "      <td>2265</td>\n",
       "      <td>166.0</td>\n",
       "      <td>87.0</td>\n",
       "      <td>116.00</td>\n",
       "      <td>7</td>\n",
       "      <td>(120.0, 194.0]</td>\n",
       "      <td>(103.0, 194.0]</td>\n",
       "      <td>(86.0, 194.0]</td>\n",
       "    </tr>\n",
       "    <tr>\n",
       "      <th>1</th>\n",
       "      <td>0</td>\n",
       "      <td>1</td>\n",
       "      <td>0</td>\n",
       "      <td>0</td>\n",
       "      <td>0</td>\n",
       "      <td>1</td>\n",
       "      <td>0</td>\n",
       "      <td>71</td>\n",
       "      <td>715</td>\n",
       "      <td>715</td>\n",
       "      <td>90.0</td>\n",
       "      <td>90.0</td>\n",
       "      <td>90.00</td>\n",
       "      <td>1</td>\n",
       "      <td>(17.999, 104.0]</td>\n",
       "      <td>(86.857, 94.2]</td>\n",
       "      <td>(86.0, 194.0]</td>\n",
       "    </tr>\n",
       "    <tr>\n",
       "      <th>2</th>\n",
       "      <td>0</td>\n",
       "      <td>1</td>\n",
       "      <td>0</td>\n",
       "      <td>0</td>\n",
       "      <td>0</td>\n",
       "      <td>1</td>\n",
       "      <td>0</td>\n",
       "      <td>28</td>\n",
       "      <td>150</td>\n",
       "      <td>1806</td>\n",
       "      <td>125.0</td>\n",
       "      <td>74.0</td>\n",
       "      <td>96.00</td>\n",
       "      <td>9</td>\n",
       "      <td>(120.0, 194.0]</td>\n",
       "      <td>(94.2, 103.0]</td>\n",
       "      <td>(64.0, 74.0]</td>\n",
       "    </tr>\n",
       "    <tr>\n",
       "      <th>3</th>\n",
       "      <td>0</td>\n",
       "      <td>1</td>\n",
       "      <td>0</td>\n",
       "      <td>1</td>\n",
       "      <td>1</td>\n",
       "      <td>0</td>\n",
       "      <td>0</td>\n",
       "      <td>52</td>\n",
       "      <td>725</td>\n",
       "      <td>2274</td>\n",
       "      <td>117.0</td>\n",
       "      <td>97.0</td>\n",
       "      <td>104.25</td>\n",
       "      <td>4</td>\n",
       "      <td>(104.0, 120.0]</td>\n",
       "      <td>(103.0, 194.0]</td>\n",
       "      <td>(86.0, 194.0]</td>\n",
       "    </tr>\n",
       "    <tr>\n",
       "      <th>4</th>\n",
       "      <td>0</td>\n",
       "      <td>1</td>\n",
       "      <td>1</td>\n",
       "      <td>0</td>\n",
       "      <td>1</td>\n",
       "      <td>0</td>\n",
       "      <td>0</td>\n",
       "      <td>82</td>\n",
       "      <td>805</td>\n",
       "      <td>805</td>\n",
       "      <td>80.0</td>\n",
       "      <td>80.0</td>\n",
       "      <td>80.00</td>\n",
       "      <td>1</td>\n",
       "      <td>(17.999, 104.0]</td>\n",
       "      <td>(78.0, 86.857]</td>\n",
       "      <td>(74.0, 86.0]</td>\n",
       "    </tr>\n",
       "  </tbody>\n",
       "</table>\n",
       "</div>"
      ],
      "text/plain": [
       "   target  gender_F  income_high  income_low  country_USA  country_India  \\\n",
       "0       0         1            0           1            0              1   \n",
       "1       0         1            0           0            0              1   \n",
       "2       0         1            0           0            0              1   \n",
       "3       0         1            0           1            1              0   \n",
       "4       0         1            1           0            1              0   \n",
       "\n",
       "   country_UK  age  time_since_last_gift  time_since_first_gift  max_gift  \\\n",
       "0           0   65                   530                   2265     166.0   \n",
       "1           0   71                   715                    715      90.0   \n",
       "2           0   28                   150                   1806     125.0   \n",
       "3           0   52                   725                   2274     117.0   \n",
       "4           0   82                   805                    805      80.0   \n",
       "\n",
       "   min_gift  mean_gift  number_gift    disc_max_gift  disc_mean_gift  \\\n",
       "0      87.0     116.00            7   (120.0, 194.0]  (103.0, 194.0]   \n",
       "1      90.0      90.00            1  (17.999, 104.0]  (86.857, 94.2]   \n",
       "2      74.0      96.00            9   (120.0, 194.0]   (94.2, 103.0]   \n",
       "3      97.0     104.25            4   (104.0, 120.0]  (103.0, 194.0]   \n",
       "4      80.0      80.00            1  (17.999, 104.0]  (78.0, 86.857]   \n",
       "\n",
       "   disc_min_gift  \n",
       "0  (86.0, 194.0]  \n",
       "1  (86.0, 194.0]  \n",
       "2   (64.0, 74.0]  \n",
       "3  (86.0, 194.0]  \n",
       "4   (74.0, 86.0]  "
      ]
     },
     "execution_count": 159,
     "metadata": {},
     "output_type": "execute_result"
    }
   ],
   "source": [
    "# As you can see, my awesome function works. Good job Christine.\n",
    "df.head()"
   ]
  },
  {
   "cell_type": "code",
   "execution_count": 171,
   "metadata": {},
   "outputs": [
    {
     "data": {
      "text/plain": [
       "Index(['target', 'gender_F', 'income_high', 'income_low', 'country_USA',\n",
       "       'country_India', 'country_UK', 'age', 'time_since_last_gift',\n",
       "       'time_since_first_gift', 'max_gift', 'min_gift', 'mean_gift',\n",
       "       'number_gift', 'disc_max_gift', 'disc_mean_gift', 'disc_min_gift',\n",
       "       'disc_min_gifts'],\n",
       "      dtype='object')"
      ]
     },
     "execution_count": 171,
     "metadata": {},
     "output_type": "execute_result"
    }
   ],
   "source": [
    "df.columns"
   ]
  },
  {
   "cell_type": "code",
   "execution_count": 160,
   "metadata": {},
   "outputs": [],
   "source": [
    "# Force the size of the bins\n",
    "df[\"disc_min_gifts\"] = pd.cut(df[\"number_gift\"],[0, 5, 10, 20])"
   ]
  },
  {
   "cell_type": "code",
   "execution_count": 161,
   "metadata": {},
   "outputs": [
    {
     "data": {
      "text/html": [
       "<div>\n",
       "<style scoped>\n",
       "    .dataframe tbody tr th:only-of-type {\n",
       "        vertical-align: middle;\n",
       "    }\n",
       "\n",
       "    .dataframe tbody tr th {\n",
       "        vertical-align: top;\n",
       "    }\n",
       "\n",
       "    .dataframe thead th {\n",
       "        text-align: right;\n",
       "    }\n",
       "</style>\n",
       "<table border=\"1\" class=\"dataframe\">\n",
       "  <thead>\n",
       "    <tr style=\"text-align: right;\">\n",
       "      <th></th>\n",
       "      <th>count</th>\n",
       "    </tr>\n",
       "    <tr>\n",
       "      <th>disc_min_gifts</th>\n",
       "      <th></th>\n",
       "    </tr>\n",
       "  </thead>\n",
       "  <tbody>\n",
       "    <tr>\n",
       "      <th>(0, 5]</th>\n",
       "      <td>13808</td>\n",
       "    </tr>\n",
       "    <tr>\n",
       "      <th>(5, 10]</th>\n",
       "      <td>10220</td>\n",
       "    </tr>\n",
       "    <tr>\n",
       "      <th>(10, 20]</th>\n",
       "      <td>972</td>\n",
       "    </tr>\n",
       "  </tbody>\n",
       "</table>\n",
       "</div>"
      ],
      "text/plain": [
       "                count\n",
       "disc_min_gifts       \n",
       "(0, 5]          13808\n",
       "(5, 10]         10220\n",
       "(10, 20]          972"
      ]
     },
     "execution_count": 161,
     "metadata": {},
     "output_type": "execute_result"
    }
   ],
   "source": [
    "# Example of it working:\n",
    "b = df[\"disc_min_gifts\"].value_counts()\n",
    "\n",
    "type(b)\n",
    "\n",
    "b.to_frame()"
   ]
  },
  {
   "cell_type": "code",
   "execution_count": 162,
   "metadata": {},
   "outputs": [
    {
     "name": "stderr",
     "output_type": "stream",
     "text": [
      "/var/folders/vv/54f2s9796xj4fpznwy0p3f_c0000gn/T/ipykernel_42463/2928277214.py:2: FutureWarning: The default of observed=False is deprecated and will be changed to True in a future version of pandas. Pass observed=False to retain current behavior or observed=True to adopt the future default and silence this warning.\n",
      "  a = df.groupby(\"disc_min_gifts\").size()\n"
     ]
    },
    {
     "data": {
      "text/html": [
       "<div>\n",
       "<style scoped>\n",
       "    .dataframe tbody tr th:only-of-type {\n",
       "        vertical-align: middle;\n",
       "    }\n",
       "\n",
       "    .dataframe tbody tr th {\n",
       "        vertical-align: top;\n",
       "    }\n",
       "\n",
       "    .dataframe thead th {\n",
       "        text-align: right;\n",
       "    }\n",
       "</style>\n",
       "<table border=\"1\" class=\"dataframe\">\n",
       "  <thead>\n",
       "    <tr style=\"text-align: right;\">\n",
       "      <th></th>\n",
       "      <th>0</th>\n",
       "    </tr>\n",
       "    <tr>\n",
       "      <th>disc_min_gifts</th>\n",
       "      <th></th>\n",
       "    </tr>\n",
       "  </thead>\n",
       "  <tbody>\n",
       "    <tr>\n",
       "      <th>(0, 5]</th>\n",
       "      <td>13808</td>\n",
       "    </tr>\n",
       "    <tr>\n",
       "      <th>(5, 10]</th>\n",
       "      <td>10220</td>\n",
       "    </tr>\n",
       "    <tr>\n",
       "      <th>(10, 20]</th>\n",
       "      <td>972</td>\n",
       "    </tr>\n",
       "  </tbody>\n",
       "</table>\n",
       "</div>"
      ],
      "text/plain": [
       "                    0\n",
       "disc_min_gifts       \n",
       "(0, 5]          13808\n",
       "(5, 10]         10220\n",
       "(10, 20]          972"
      ]
     },
     "execution_count": 162,
     "metadata": {},
     "output_type": "execute_result"
    }
   ],
   "source": [
    "# Check sizing:\n",
    "a = df.groupby(\"disc_min_gifts\").size()\n",
    "\n",
    "a.to_frame()"
   ]
  },
  {
   "cell_type": "code",
   "execution_count": 163,
   "metadata": {},
   "outputs": [],
   "source": [
    "# Use cases\n",
    "# Size --> get total count of elements\n",
    "# Value_Counts --> get count of unique values, similar to Pivot table\n",
    "\n",
    "# Both outcomes have similar results since we used a groupby before."
   ]
  },
  {
   "cell_type": "code",
   "execution_count": 245,
   "metadata": {},
   "outputs": [],
   "source": [
    "# Create the PIG table needed for the grpahing...\n",
    "def create_pig_table(df,target, variable):\n",
    "\n",
    "    # group by variable you want to plot\n",
    "    groups = df[[target,variable]].groupby(variable)\n",
    "    # print(groups)\n",
    "\n",
    "    # Calculate - Method #1 is specifying agg here.\n",
    "    # Use Agg to create multiple columns applying the same column but for different metrics\n",
    "    pig_table = groups[target].agg(Incidence = \"mean\", Size = \"count\") # Incidence is the name of the column\n",
    "\n",
    "    # Add a column for sizing - Method #2\n",
    "    pig_table[\"Size\"] = groups[target].agg(\"count\") # we want to pass the sum aggregation function thru \"target\" column\n",
    "\n",
    "    # Return\n",
    "    return pig_table"
   ]
  },
  {
   "cell_type": "code",
   "execution_count": 246,
   "metadata": {},
   "outputs": [
    {
     "data": {
      "text/html": [
       "<div>\n",
       "<style scoped>\n",
       "    .dataframe tbody tr th:only-of-type {\n",
       "        vertical-align: middle;\n",
       "    }\n",
       "\n",
       "    .dataframe tbody tr th {\n",
       "        vertical-align: top;\n",
       "    }\n",
       "\n",
       "    .dataframe thead th {\n",
       "        text-align: right;\n",
       "    }\n",
       "</style>\n",
       "<table border=\"1\" class=\"dataframe\">\n",
       "  <thead>\n",
       "    <tr style=\"text-align: right;\">\n",
       "      <th></th>\n",
       "      <th>Incidence</th>\n",
       "      <th>Size</th>\n",
       "    </tr>\n",
       "    <tr>\n",
       "      <th>gender_F</th>\n",
       "      <th></th>\n",
       "      <th></th>\n",
       "    </tr>\n",
       "  </thead>\n",
       "  <tbody>\n",
       "    <tr>\n",
       "      <th>0</th>\n",
       "      <td>0.044924</td>\n",
       "      <td>12421</td>\n",
       "    </tr>\n",
       "    <tr>\n",
       "      <th>1</th>\n",
       "      <td>0.050004</td>\n",
       "      <td>12579</td>\n",
       "    </tr>\n",
       "  </tbody>\n",
       "</table>\n",
       "</div>"
      ],
      "text/plain": [
       "          Incidence   Size\n",
       "gender_F                  \n",
       "0          0.044924  12421\n",
       "1          0.050004  12579"
      ]
     },
     "metadata": {},
     "output_type": "display_data"
    }
   ],
   "source": [
    "# Test\n",
    "a = create_pig_table(df, \"target\", \"gender_F\")\n",
    "\n",
    "display(a) # is a dataframe"
   ]
  },
  {
   "cell_type": "code",
   "execution_count": 222,
   "metadata": {},
   "outputs": [],
   "source": [
    "# Loop thru\n",
    "variables = [\"gender_F\", \"country_USA\"]\n",
    "\n",
    "pig_tables = {}\n",
    "\n",
    "# Loop thru\n",
    "for variable in variables:\n",
    "    # Create pig table\n",
    "    solo_pig_table = create_pig_table(df, \"target\", variable)\n",
    "\n",
    "    #Add to pig tables dictionary\n",
    "    pig_tables[variable] = solo_pig_table\n"
   ]
  },
  {
   "cell_type": "code",
   "execution_count": 223,
   "metadata": {},
   "outputs": [
    {
     "data": {
      "text/plain": [
       "dict_keys(['gender_F', 'country_USA'])"
      ]
     },
     "metadata": {},
     "output_type": "display_data"
    },
    {
     "data": {
      "text/html": [
       "<div>\n",
       "<style scoped>\n",
       "    .dataframe tbody tr th:only-of-type {\n",
       "        vertical-align: middle;\n",
       "    }\n",
       "\n",
       "    .dataframe tbody tr th {\n",
       "        vertical-align: top;\n",
       "    }\n",
       "\n",
       "    .dataframe thead th {\n",
       "        text-align: right;\n",
       "    }\n",
       "</style>\n",
       "<table border=\"1\" class=\"dataframe\">\n",
       "  <thead>\n",
       "    <tr style=\"text-align: right;\">\n",
       "      <th></th>\n",
       "      <th>Incidence</th>\n",
       "      <th>Size</th>\n",
       "    </tr>\n",
       "    <tr>\n",
       "      <th>country_USA</th>\n",
       "      <th></th>\n",
       "      <th></th>\n",
       "    </tr>\n",
       "  </thead>\n",
       "  <tbody>\n",
       "    <tr>\n",
       "      <th>0</th>\n",
       "      <td>0.049173</td>\n",
       "      <td>734</td>\n",
       "    </tr>\n",
       "    <tr>\n",
       "      <th>1</th>\n",
       "      <td>0.044972</td>\n",
       "      <td>453</td>\n",
       "    </tr>\n",
       "  </tbody>\n",
       "</table>\n",
       "</div>"
      ],
      "text/plain": [
       "             Incidence  Size\n",
       "country_USA                 \n",
       "0             0.049173   734\n",
       "1             0.044972   453"
      ]
     },
     "execution_count": 223,
     "metadata": {},
     "output_type": "execute_result"
    }
   ],
   "source": [
    "# View\n",
    "display(pig_tables.keys())\n",
    "\n",
    "pig_tables[\"country_USA\"]"
   ]
  },
  {
   "cell_type": "code",
   "execution_count": 247,
   "metadata": {},
   "outputs": [
    {
     "data": {
      "text/html": [
       "<div>\n",
       "<style scoped>\n",
       "    .dataframe tbody tr th:only-of-type {\n",
       "        vertical-align: middle;\n",
       "    }\n",
       "\n",
       "    .dataframe tbody tr th {\n",
       "        vertical-align: top;\n",
       "    }\n",
       "\n",
       "    .dataframe thead th {\n",
       "        text-align: right;\n",
       "    }\n",
       "</style>\n",
       "<table border=\"1\" class=\"dataframe\">\n",
       "  <thead>\n",
       "    <tr style=\"text-align: right;\">\n",
       "      <th></th>\n",
       "      <th>income_low</th>\n",
       "      <th>income_high</th>\n",
       "    </tr>\n",
       "    <tr>\n",
       "      <th>gender_F</th>\n",
       "      <th></th>\n",
       "      <th></th>\n",
       "    </tr>\n",
       "  </thead>\n",
       "  <tbody>\n",
       "    <tr>\n",
       "      <th>0</th>\n",
       "      <td>12421</td>\n",
       "      <td>1</td>\n",
       "    </tr>\n",
       "    <tr>\n",
       "      <th>1</th>\n",
       "      <td>12579</td>\n",
       "      <td>1</td>\n",
       "    </tr>\n",
       "  </tbody>\n",
       "</table>\n",
       "</div>"
      ],
      "text/plain": [
       "          income_low  income_high\n",
       "gender_F                         \n",
       "0              12421            1\n",
       "1              12579            1"
      ]
     },
     "metadata": {},
     "output_type": "display_data"
    }
   ],
   "source": [
    "a = df.groupby(\"gender_F\")[[\"income_low\", \"income_high\"]].agg({\"income_low\": \"count\", \"income_high\": \"max\"})\n",
    "display(a)"
   ]
  },
  {
   "cell_type": "code",
   "execution_count": 254,
   "metadata": {},
   "outputs": [
    {
     "data": {
      "text/plain": [
       "country_USA\n",
       "0    0.049173\n",
       "1    0.044972\n",
       "Name: Incidence, dtype: float64"
      ]
     },
     "execution_count": 254,
     "metadata": {},
     "output_type": "execute_result"
    }
   ],
   "source": [
    "pig_tables[\"country_USA\"][\"Incidence\"]"
   ]
  },
  {
   "cell_type": "code",
   "execution_count": 272,
   "metadata": {},
   "outputs": [
    {
     "data": {
      "image/png": "[encoded data removed]",
      "text/plain": [
       "<Figure size 640x480 with 1 Axes>"
      ]
     },
     "metadata": {},
     "output_type": "display_data"
    }
   ],
   "source": [
    "# Plot the Predictor Insight Graph\n",
    "\n",
    "# The function to plot a predictor insight graph.\n",
    "def plot_incidence(pig_table, variable):\n",
    "    \n",
    "    # Plot the incidence line\n",
    "    # pig_table[variable][\"Incidence\"].plot()\n",
    "\n",
    "    pig_table[variable][\"Incidence\"].plot()\n",
    "    \n",
    "    # Formatting the predictor insight graph\n",
    "    plt.xticks(np.arange(len(pig_table)), [\"Not USA\",\"USA\"]) # The labels have to be manually assigned here since it's binary\n",
    "    plt.xlim([-0.5, len(pig_table) - 0.5])\n",
    "    plt.ylim([0, max(pig_table[variable][\"Incidence\"]*2)])\n",
    "    plt.ylabel(\"Incidence\", rotation=0, rotation_mode=\"anchor\", ha=\"right\")\n",
    "    plt.xlabel(variable)\n",
    "    \n",
    "    # # Show the graph\n",
    "    plt.show()\n",
    "\n",
    "# Apply the function for the variable \"country\".\n",
    "plot_incidence(pig_tables, \"country_USA\")"
   ]
  },
  {
   "cell_type": "code",
   "execution_count": 278,
   "metadata": {},
   "outputs": [
    {
     "data": {
      "image/png": "[encoded data removed]",
      "text/plain": [
       "<Figure size 640x480 with 2 Axes>"
      ]
     },
     "metadata": {},
     "output_type": "display_data"
    }
   ],
   "source": [
    "# Plot Pig:\n",
    "\n",
    "# The function to plot a predictor insight graph\n",
    "def plot_pig(pig_table, variable):\n",
    "    \n",
    "    # Plot formatting\n",
    "    plt.ylabel(\"Size\", rotation=0, rotation_mode=\"anchor\", ha=\"right\")\n",
    "    \n",
    "    # # Plot the bars with sizes \n",
    "    pig_table[variable][\"Size\"].plot(kind=\"bar\", width=0.5, color=\"lightgray\", edgecolor=\"none\") \n",
    "    \n",
    "    # Plot the incidence line on secondary axis\n",
    "    pig_table[variable][\"Incidence\"].plot(secondary_y=True)\n",
    "    \n",
    "    # Plot formatting\n",
    "    plt.xticks(np.arange(len(pig_table)), [\"Not USA\",\"USA\"])  # remember for xticks, you need to pass an np array, like [0,1,2,3]\n",
    "    plt.xlim([-0.5, len(pig_table) - 0.5])\n",
    "    plt.ylabel(\"Incidence\", rotation=0, rotation_mode=\"anchor\", ha=\"left\")\n",
    "    \n",
    "    # # Show the graph\n",
    "    # plt.show()\n",
    "    \n",
    "# Apply the function for the variable \"country\"\n",
    "plot_pig(pig_tables, \"country_USA\")"
   ]
  },
  {
   "cell_type": "markdown",
   "metadata": {},
   "source": []
  }
 ],
 "metadata": {
  "kernelspec": {
   "display_name": "base",
   "language": "python",
   "name": "python3"
  },
  "language_info": {
   "codemirror_mode": {
    "name": "ipython",
    "version": 3
   },
   "file_extension": ".py",
   "mimetype": "text/x-python",
   "name": "python",
   "nbconvert_exporter": "python",
   "pygments_lexer": "ipython3",
   "version": "3.11.9"
  }
 },
 "nbformat": 4,
 "nbformat_minor": 2
}
