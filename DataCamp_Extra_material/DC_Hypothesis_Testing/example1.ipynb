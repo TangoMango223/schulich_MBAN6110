{
 "cells": [
  {
   "cell_type": "code",
   "execution_count": 22,
   "metadata": {},
   "outputs": [],
   "source": [
    "# Import Statements\n",
    "\n",
    "import numpy as np\n",
    "import pandas as pd\n",
    "import matplotlib.pyplot as plt\n",
    "import seaborn as sns\n",
    "import math"
   ]
  },
  {
   "cell_type": "code",
   "execution_count": 23,
   "metadata": {},
   "outputs": [],
   "source": [
    "# EA Games example - A/B Testing\n",
    "\n",
    "# Was the 43% difference in more purchases with Control Group higher than Test Group - statistically significant?\n",
    "# Just because we see the mean is different, does not mean it's statistically significant\n",
    "\n",
    "# Import stack overflow csv data:\n",
    "stack_overflow = pd.read_csv(\"/Users/christine/VSCode/MBAN 6110 - remote/schulich_MBAN6110/DC_Hypothesis_Testing/csv_files/stack_overflow.csv\")\n"
   ]
  },
  {
   "cell_type": "code",
   "execution_count": 24,
   "metadata": {},
   "outputs": [
    {
     "data": {
      "text/plain": [
       "119574.71738168952"
      ]
     },
     "execution_count": 24,
     "metadata": {},
     "output_type": "execute_result"
    }
   ],
   "source": [
    "# Hypothesis around the mean\n",
    "\n",
    "#print(stack_overflow)\n",
    "\n",
    "# Hypothesis: Mean annual compensation is $110,000 for data scientists\n",
    "# Point estimation, mean()\n",
    "\n",
    "# Annual compensation is $100,000.\n",
    "\n",
    "mean_comp_samp = stack_overflow[\"converted_comp\"].mean()\n",
    "mean_comp_samp\n",
    "\n"
   ]
  },
  {
   "cell_type": "code",
   "execution_count": 25,
   "metadata": {},
   "outputs": [
    {
     "data": {
      "text/plain": [
       "5000"
      ]
     },
     "execution_count": 25,
     "metadata": {},
     "output_type": "execute_result"
    }
   ],
   "source": [
    "# Bootstrap distribution - take a bunch of random data to sample from the main rows\n",
    "\n",
    "import numpy as np\n",
    "\n",
    "so_boot_dist = []\n",
    "\n",
    "for i in range (5000):\n",
    "    so_boot_dist.append(\n",
    "        np.mean(\n",
    "            stack_overflow.sample(frac=1, replace = True)[\"converted_comp\"]\n",
    "        )\n",
    "    )\n",
    "\n",
    "\n",
    "# Got 5000 samples\n",
    "len(so_boot_dist)\n",
    "\n"
   ]
  },
  {
   "cell_type": "code",
   "execution_count": 26,
   "metadata": {},
   "outputs": [
    {
     "data": {
      "image/png": "[encoded data removed]",
      "text/plain": [
       "<Figure size 640x480 with 1 Axes>"
      ]
     },
     "metadata": {},
     "output_type": "display_data"
    }
   ],
   "source": [
    "sns.histplot(so_boot_dist)\n",
    "plt.show()"
   ]
  },
  {
   "cell_type": "code",
   "execution_count": 37,
   "metadata": {},
   "outputs": [
    {
     "name": "stdout",
     "output_type": "stream",
     "text": [
      "119574.71738168952\n",
      "5584.778543113675\n"
     ]
    },
    {
     "data": {
      "text/plain": [
       "1.7144309855393731"
      ]
     },
     "execution_count": 37,
     "metadata": {},
     "output_type": "execute_result"
    }
   ],
   "source": [
    "# Z-Scores for standardization\n",
    "\n",
    "# z = value - mean / standard deviation\n",
    "\n",
    "# Actual Mean\n",
    "observed_mean = stack_overflow[\"converted_comp\"].mean()\n",
    "\n",
    "# Our Hypothesis that the mean is actually closer to 110,000\n",
    "mean_comp_hyp = 110000\n",
    "\n",
    "# Standard error for Pandas - Normalized: https://pandas.pydata.org/pandas-docs/stable/reference/api/pandas.DataFrame.sem.html\n",
    "# std - https://numpy.org/doc/stable/reference/generated/numpy.std.html\n",
    "std_error = stack_overflow[\"converted_comp\"].sem()\n",
    "print(std_error)\n",
    "\n",
    "\n",
    "# Z-score formula = sample stat - hypothesized value / std.error  or (x - mu) / std., \n",
    "# X is your actual mean, and mu is your hypothesis.\n",
    "\n",
    "# Hypothesis Testing\n",
    "z_score = (observed_mean - mean_comp_hyp) / std_error\n",
    "z_score\n",
    "\n",
    "# Is 1.71 a big standard error?\n",
    "# Use of hypothesis testing\n",
    "\n",
    "# Determine if the sample statistic is close or far away from the expected average or mean\n",
    "# You don't necessarily know if it's statistically significant!\n",
    "\n",
    "# Normal distribution - Z distribution"
   ]
  },
  {
   "cell_type": "code",
   "execution_count": 40,
   "metadata": {},
   "outputs": [
    {
     "data": {
      "text/plain": [
       "age_first_code_cut\n",
       "adult    1376\n",
       "child     885\n",
       "Name: count, dtype: int64"
      ]
     },
     "execution_count": 40,
     "metadata": {},
     "output_type": "execute_result"
    }
   ],
   "source": [
    "# Stack overflow survey:\n",
    "\n",
    "stack_overflow[\"age_first_code_cut\"].value_counts()"
   ]
  },
  {
   "cell_type": "code",
   "execution_count": 48,
   "metadata": {},
   "outputs": [
    {
     "data": {
      "text/plain": [
       "3.141714835019904e-05"
      ]
     },
     "execution_count": 48,
     "metadata": {},
     "output_type": "execute_result"
    }
   ],
   "source": [
    "# pass Z-Score to look and determine p-value\n",
    "from scipy.stats import norm\n",
    "\n",
    "prop_child_samp = (stack_overflow[\"age_first_code_cut\"] == \"child\").mean()\n",
    "prop_child_hyp = 0.35\n",
    "\n",
    "std_error = 0.01035\n",
    "\n",
    "zscore = (prop_child_samp - prop_child_hyp) / std_error\n",
    "\n",
    "# left-tail, use norm.cdf, right tail is reverse\n",
    "p_value = 1 - norm.cdf(zscore, loc = 0, scale = 1)\n",
    "\n",
    "# Significantly smaller than 0.0.5\n",
    "# Reject H0 in favor of alternate hypothesis. There is statistically significance evidence that people started programming as children, more than 35% "
   ]
  }
 ],
 "metadata": {
  "kernelspec": {
   "display_name": "base",
   "language": "python",
   "name": "python3"
  },
  "language_info": {
   "codemirror_mode": {
    "name": "ipython",
    "version": 3
   },
   "file_extension": ".py",
   "mimetype": "text/x-python",
   "name": "python",
   "nbconvert_exporter": "python",
   "pygments_lexer": "ipython3",
   "version": "3.11.5"
  }
 },
 "nbformat": 4,
 "nbformat_minor": 2
}
