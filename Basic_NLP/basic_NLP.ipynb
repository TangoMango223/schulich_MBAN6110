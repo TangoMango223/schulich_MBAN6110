{
 "cells": [
  {
   "cell_type": "code",
   "execution_count": 40,
   "metadata": {},
   "outputs": [],
   "source": [
    "# Basic NLP example\n",
    "import re\n",
    "\n",
    "from nltk.tokenize import sent_tokenize\n",
    "from nltk.tokenize import word_tokenize\n",
    "from nltk.tokenize import regexp_tokenize\n",
    "import nltk"
   ]
  },
  {
   "cell_type": "code",
   "execution_count": 7,
   "metadata": {},
   "outputs": [
    {
     "name": "stderr",
     "output_type": "stream",
     "text": [
      "[nltk_data] Downloading package punkt to\n",
      "[nltk_data]     C:\\Users\\chris\\AppData\\Roaming\\nltk_data...\n",
      "[nltk_data]   Unzipping tokenizers\\punkt.zip.\n"
     ]
    },
    {
     "data": {
      "text/plain": [
       "True"
      ]
     },
     "execution_count": 7,
     "metadata": {},
     "output_type": "execute_result"
    }
   ],
   "source": [
    "# Download the Punkt tokenizer data\n",
    "nltk.download('punkt')"
   ]
  },
  {
   "cell_type": "code",
   "execution_count": 13,
   "metadata": {},
   "outputs": [
    {
     "name": "stdout",
     "output_type": "stream",
     "text": [
      "[]\n"
     ]
    }
   ],
   "source": [
    "# Write a pattern to match sentence endings: sentence_endings\n",
    "sentence_endings = r\"[.?!]\" # This is punctuation. This defines the regex pattern looking for.\n",
    "\n",
    "# Sentence\n",
    "my_string = \"Let's write RegEx!  Won't that be fun?  I sure think so.  Can you find 4 sentences?  Or perhaps, all 19 words?\"\n",
    "\n",
    "# Split my_string on sentence endings and print the result\n",
    "re.split(sentence_endings, my_string)\n",
    "\n",
    "# Find all capitalized words in my_string and print the result\n",
    "capitalized_words = r\"[A-Z]\\w+\" # You need to include w+, otherwise it will split by capital letter each time\n",
    "print(re.findall(capitalized_words, my_string))\n",
    "\n",
    "# # Split my_string on spaces and print the result\n",
    "# spaces = r\"\\s+\" #You must include s+, otherwise it will only find the literal one each whitespace\n",
    "# print(re.split(spaces, my_string))\n",
    "\n",
    "# # # Find all digits in my_string and print the result\n",
    "# digits = r\"\\d+\"\n",
    "# print(re.findall(digits, my_string))"
   ]
  },
  {
   "cell_type": "code",
   "execution_count": 17,
   "metadata": {},
   "outputs": [],
   "source": [
    "example = \"Hello123, welcome to the world of regex! Have you tried regex101.com? It's super useful for 2024. Email me at example@domain.com or call me at 555-1234. Regex can be tricky: 42% of people struggle initially, but with practice, it becomes easier. Did you know that 3.14 is the value of pi? Let's meet at 10:00 AM.\""
   ]
  },
  {
   "cell_type": "code",
   "execution_count": 24,
   "metadata": {},
   "outputs": [
    {
     "name": "stdout",
     "output_type": "stream",
     "text": [
      "['Hello123,', 'welcome', 'to', 'the', 'world', 'of', 'regex!', 'Have', 'you', 'tried', 'regex101.com?', \"It's\", 'super', 'useful', 'for', '2024.', 'Email', 'me', 'at', 'example@domain.com', 'or', 'call', 'me', 'at', '555-1234.', 'Regex', 'can', 'be', 'tricky:', '42%', 'of', 'people', 'struggle', 'initially,', 'but', 'with', 'practice,', 'it', 'becomes', 'easier.', 'Did', 'you', 'know', 'that', '3.14', 'is', 'the', 'value', 'of', 'pi?', \"Let's\", 'meet', 'at', '10:00', 'AM.']\n"
     ]
    }
   ],
   "source": [
    "# Add the split criteria\n",
    "\n",
    "# Let's split by space first.\n",
    "print(re.split(r\"\\s+\", example))"
   ]
  },
  {
   "cell_type": "code",
   "execution_count": 28,
   "metadata": {},
   "outputs": [],
   "source": [
    "# Let's look for the email addresses here\n",
    "\n",
    "# email_pattern = r\"[a-zA-Z0-9._%+-]+@[a-zA-Z0-9.-]+\\.[a-zA-Z]{2,}\" \n",
    "\n",
    "# how this email pattern works...\n",
    "# [] match what is in brackets. This would be the first chunk of the email.\n",
    "# a-z - match lower case\n",
    "# match any upper case, A-Z\n",
    "# 0-9 - any numbers\n",
    "# ._%+- any puncutation added\n",
    "# @ is the literal symbol of email domains, with a +\n",
    "# \\. treats as literal character, as in look for a dot\n",
    "\n",
    "# Extract all the numbers in the string\n",
    "digits = r\"\\d+\"\n",
    "re.match(digits,example)"
   ]
  },
  {
   "cell_type": "code",
   "execution_count": 35,
   "metadata": {},
   "outputs": [
    {
     "name": "stdout",
     "output_type": "stream",
     "text": [
      "Match found: 123\n",
      "Start index: 3\n",
      "Ending index: 6\n",
      "Span: (3, 6)\n"
     ]
    }
   ],
   "source": [
    "# Use Search\n",
    "\n",
    "pattern = r\"\\d+\" # You need the plus, otherwise, only a single recurrence will be printed. It will show the entire sequence.\n",
    "text = \"abc123def456\"\n",
    "\n",
    "# Using the search function\n",
    "search = re.search(pattern, text)\n",
    "if search: # check if not None\n",
    "    print(\"Match found:\", search.group())\n",
    "    print(\"Start index:\", search.start())\n",
    "    print(\"Ending index:\", search.end())\n",
    "    print(\"Span:\", search.span())\n",
    "else:\n",
    "    print(\"No Match found.\")\n",
    "\n",
    "\n",
    "# What is Span?\n",
    "# Returns the tuple with starting and ending location of the match\n",
    "# Has the location that we want\n",
    "\n",
    "\n",
    "# Note - this will only trigger with the first search."
   ]
  },
  {
   "cell_type": "code",
   "execution_count": 36,
   "metadata": {},
   "outputs": [
    {
     "name": "stdout",
     "output_type": "stream",
     "text": [
      "Match: 123 at position (3, 6) (start: 3, end: 6)\n",
      "Match: 456 at position (9, 12) (start: 9, end: 12)\n",
      "Match: 789 at position (15, 18) (start: 15, end: 18)\n"
     ]
    }
   ],
   "source": [
    "# Find All or Find Iter- to look for all possible options:\n",
    "\n",
    "\n",
    "# Example of Find Iter\n",
    "import re\n",
    "\n",
    "pattern = r\"\\d+\"\n",
    "text = \"abc123def456ghi789\"\n",
    "\n",
    "# Using finditer to get detailed match information\n",
    "matches = re.finditer(pattern, text)\n",
    "for match in matches:\n",
    "    print(f\"Match: {match.group()} at position {match.span()} (start: {match.start()}, end: {match.end()})\")\n",
    "\n",
    "# Example of Find All\n",
    "\n",
    "# Iterator and All are the same thing\n",
    "# Summary\n",
    "\n",
    "#     Use re.findall() if you just need a list of all matching substrings.\n",
    "#     Use re.finditer() if you need detailed information about each match, such as their positions within the string.\n",
    "#     Both methods will allow you to find multiple matches of a pattern within a string."
   ]
  },
  {
   "cell_type": "code",
   "execution_count": 10,
   "metadata": {},
   "outputs": [
    {
     "name": "stdout",
     "output_type": "stream",
     "text": [
      "{'Pendragon', 'European', 'defeator', 'No', 'air-speed', '[', 'needs', 'Whoa', 'join', 'to', 'Please', 'get', 'What', '1', 'course', '...', 'land', 'horse', 'maybe', 'with', 'house', 'suggesting', 'five', '2', 'temperate', \"'re\", 'King', 'bangin', ']', 'swallow', 'tell', 'other', 'matter', 'master', 'winter', 'weight', 'search', 'simple', 'climes', 'feathers', 'question', 'this', 'your', 'since', 'Wait', 'he', 'Yes', \"'em\", 'They', 'point', 'SOLDIER', 'together', 'husk', 'from', ',', 'not', 'south', 'held', 'migrate', 'KING', 'plover', 'A', 'Well', 'Who', 'these', 'pound', 'sovereign', 'my', 'and', \"'d\", 'Patsy', 'a', 'an', 'they', \"'ve\", 'our', 'could', 'in', 'Will', 'why', 'there', 'wings', 'Am', 'Listen', 'grips', 'Halt', 'speak', 'through', 'do', ':', 'are', 'may', 'Uther', 'it', 'does', 'So', 'sun', 'right', 'wind', 'by', 'under', 'swallows', 'interested', 'them', 'Found', 'castle', 'African', 'Oh', 'In', 'second', 'you', 'times', 'Saxons', 'Britons', 'two', 'Arthur', 'Mercea', 'strangers', 'yeah', 'SCENE', 'covered', 'its', 'back', 'will', 'trusty', 'using', 'warmer', 'fly', 'go', 'ratios', 'ounce', 'am', '--', 'court', 'We', 'It', 'coconuts', 'Not', 'use', 'yet', 'bird', 'beat', 'be', 'here', 'got', 'goes', 'ridden', 'who', 'knights', 'where', 'wants', 'England', 'son', 'the', 'Court', 'guiding', 'then', 'Where', 'just', 'ask', 'anyway', 'Supposing', 'kingdom', 'have', 'Pull', 'seek', 'Are', 'strand', 'breadth', 'found', \"'m\", 'but', 'empty', 'on', 'or', 'servant', 'non-migratory', 'halves', 'The', 'at', 'mean', 'ARTHUR', 'carrying', 'martin', 'forty-three', 'agree', 'creeper', 'lord', \"'s\", 'bring', 'coconut', 'minute', 'one', 'carried', 'grip', 'Ridden', 'all', 'that', 'But', 'of', '!', \"'\", 'dorsal', 'every', 'order', 'velocity', 'length', 'if', 'You', '?', 'maintain', '.', 'snows', '#', \"n't\", 'That', 'tropical', 'Camelot', 'is', 'me', 'must', 'zone', 'carry', 'clop', 'I', 'line'}\n"
     ]
    }
   ],
   "source": [
    "# Tokenization example:\n",
    "\n",
    "# Import necessary modules\n",
    "from nltk.tokenize import sent_tokenize\n",
    "from nltk.tokenize import word_tokenize\n",
    "\n",
    "# Aside from importing this, you may need to download punkt into nltk. It's a pre-trained model in addition to NTLK that can handle more complex sentences and puncutation.\n",
    "# IN some cases, for complex sentences, you might need it.\n",
    "# nltk.download('punkt')\n",
    "\n",
    "\n",
    "scene_one = \"SCENE 1: [wind] [clop clop clop] \\nKING ARTHUR: Whoa there!  [clop clop clop] \\nSOLDIER #1: Halt!  Who goes there?\\nARTHUR: It is I, Arthur, son of Uther Pendragon, from the castle of Camelot.  King of the Britons, defeator of the Saxons, sovereign of all England!\\nSOLDIER #1: Pull the other one!\\nARTHUR: I am, ...  and this is my trusty servant Patsy.  We have ridden the length and breadth of the land in search of knights who will join me in my court at Camelot.  I must speak with your lord and master.\\nSOLDIER #1: What?  Ridden on a horse?\\nARTHUR: Yes!\\nSOLDIER #1: You're using coconuts!\\nARTHUR: What?\\nSOLDIER #1: You've got two empty halves of coconut and you're bangin' 'em together.\\nARTHUR: So?  We have ridden since the snows of winter covered this land, through the kingdom of Mercea, through--\\nSOLDIER #1: Where'd you get the coconuts?\\nARTHUR: We found them.\\nSOLDIER #1: Found them?  In Mercea?  The coconut's tropical!\\nARTHUR: What do you mean?\\nSOLDIER #1: Well, this is a temperate zone.\\nARTHUR: The swallow may fly south with the sun or the house martin or the plover may seek warmer climes in winter, yet these are not strangers to our land?\\nSOLDIER #1: Are you suggesting coconuts migrate?\\nARTHUR: Not at all.  They could be carried.\\nSOLDIER #1: What?  A swallow carrying a coconut?\\nARTHUR: It could grip it by the husk!\\nSOLDIER #1: It's not a question of where he grips it!  It's a simple question of weight ratios!  A five ounce bird could not carry a one pound coconut.\\nARTHUR: Well, it doesn't matter.  Will you go and tell your master that Arthur from the Court of Camelot is here.\\nSOLDIER #1: Listen.  In order to maintain air-speed velocity, a swallow needs to beat its wings forty-three times every second, right?\\nARTHUR: Please!\\nSOLDIER #1: Am I right?\\nARTHUR: I'm not interested!\\nSOLDIER #2: It could be carried by an African swallow!\\nSOLDIER #1: Oh, yeah, an African swallow maybe, but not a European swallow.  That's my point.\\nSOLDIER #2: Oh, yeah, I agree with that.\\nARTHUR: Will you ask your master if he wants to join my court at Camelot?!\\nSOLDIER #1: But then of course a-- African swallows are non-migratory.\\nSOLDIER #2: Oh, yeah...\\nSOLDIER #1: So they couldn't bring a coconut back anyway...  [clop clop clop] \\nSOLDIER #2: Wait a minute!  Supposing two swallows carried it together?\\nSOLDIER #1: No, they'd have to have it on a line.\\nSOLDIER #2: Well, simple!  They'd just use a strand of creeper!\\nSOLDIER #1: What, held under the dorsal guiding feathers?\\nSOLDIER #2: Well, why not?\\n\"\n",
    "\n",
    "# Split scene_one into sentences: sentences\n",
    "sentences = sent_tokenize(scene_one)\n",
    "\n",
    "# Use word_tokenize to tokenize the fourth sentence: tokenized_sent\n",
    "tokenized_sent = word_tokenize(sentences[3])\n",
    "\n",
    "# Make a set of unique tokens in the entire scene: unique_tokens\n",
    "unique_tokens = set(word_tokenize(scene_one))\n",
    "\n",
    "# Print the unique tokens result\n",
    "print(unique_tokens)"
   ]
  },
  {
   "cell_type": "code",
   "execution_count": 24,
   "metadata": {},
   "outputs": [
    {
     "name": "stdout",
     "output_type": "stream",
     "text": [
      "None\n"
     ]
    }
   ],
   "source": [
    "# Search for anything:\n",
    "\n",
    "my_string = \"Let's write [RegEx]!  Won't that be fun?  I sure think so.  Can you find 4 sentences?  Or perhaps, all 19 words?\"\n",
    "search_pattern = r\"\\[.*\\]\"\n",
    "\n",
    "print(re.match(search_pattern, my_string))"
   ]
  },
  {
   "cell_type": "code",
   "execution_count": 35,
   "metadata": {},
   "outputs": [
    {
     "name": "stdout",
     "output_type": "stream",
     "text": [
      "['Some', 'text', 'here', 'some', 'text', 'here', '1234']\n"
     ]
    }
   ],
   "source": [
    "import re\n",
    "\n",
    "# Brackets are used as a set for searching\n",
    "search_pattern = r\"\\w+\" # same thing\n",
    "search_pattern2 = r\"[\\w]+\" # same thing\n",
    "text = \"Some text here, some [text] here, 1234!\"\n",
    "\n",
    "matches = re.findall(search_pattern2, text)\n",
    "print(matches)  # Output: ['[text]', '[more text]']"
   ]
  },
  {
   "cell_type": "code",
   "execution_count": 38,
   "metadata": {},
   "outputs": [
    {
     "name": "stdout",
     "output_type": "stream",
     "text": [
      "King Arthur:\n"
     ]
    }
   ],
   "source": [
    "# King Arthur and his people search:\n",
    "\n",
    "sentences = \"King Arthur: Who goes there?\"\n",
    "\n",
    "# Find the script notation at the beginning of the fourth sentence and print it\n",
    "# Looking for A-Z, a-z, space and also #.\n",
    "# We also need a + to show the entire string, otherwise the literal each character will be found\n",
    "\n",
    "pattern2 = r\"[A-za-z #]+:\"\n",
    "\n",
    "\n",
    "print(re.match(pattern2, sentences).group())"
   ]
  },
  {
   "cell_type": "code",
   "execution_count": null,
   "metadata": {},
   "outputs": [],
   "source": [
    "# Find the script notation at the beginning of the fourth sentence and print it\n",
    "pattern2 = r\"[A-za-z #]+:\"\n",
    "a = re.finditer(pattern2, sentences[0])\n",
    "\n",
    "for match in a:\n",
    "    print(f\"Match: {match.group()} at position {match.span()} (start: {match.start()}, end: {match.end()})\")\n"
   ]
  },
  {
   "cell_type": "code",
   "execution_count": 41,
   "metadata": {},
   "outputs": [
    {
     "data": {
      "text/plain": [
       "['SOLDIER',\n",
       " '#1',\n",
       " 'Found',\n",
       " 'them',\n",
       " '?',\n",
       " 'In',\n",
       " 'Mercea',\n",
       " '?',\n",
       " 'The',\n",
       " 'coconut',\n",
       " 's',\n",
       " 'tropical',\n",
       " '!']"
      ]
     },
     "execution_count": 41,
     "metadata": {},
     "output_type": "execute_result"
    }
   ],
   "source": [
    "pattern2 = '(\\\\w+|#\\\\d|\\\\?|!)' # OR for word, OR for # followed by number, OR for literal ? and ! punctuation\n",
    "\n",
    "my_string = \"SOLDIER #1: Found them? In Mercea? The coconut's tropical!\"\n",
    "\n",
    "regexp_tokenize(my_string, pattern2)"
   ]
  },
  {
   "cell_type": "code",
   "execution_count": 43,
   "metadata": {},
   "outputs": [
    {
     "name": "stdout",
     "output_type": "stream",
     "text": [
      "['#nlp', '#python']\n"
     ]
    }
   ],
   "source": [
    "# Import the necessary modules\n",
    "from nltk.tokenize import regexp_tokenize\n",
    "from nltk.tokenize import TweetTokenizer\n",
    "# Define a regex pattern to find hashtags: pattern1\n",
    "pattern1 = r\"#\\w+\"\n",
    "\n",
    "tweets =['This is the best #nlp exercise ive found online! #python',\n",
    " '#NLP is super fun! <3 #learning',\n",
    " 'Thanks @datacamp :) #nlp #python']\n",
    "# Use the pattern on the first tweet in the tweets list\n",
    "hashtags = regexp_tokenize(tweets[0], pattern1)\n",
    "print(hashtags)"
   ]
  },
  {
   "cell_type": "code",
   "execution_count": 44,
   "metadata": {},
   "outputs": [
    {
     "name": "stdout",
     "output_type": "stream",
     "text": [
      "['@datacamp', '#nlp', '#python']\n"
     ]
    }
   ],
   "source": [
    "# Import the necessary modules\n",
    "from nltk.tokenize import regexp_tokenize\n",
    "from nltk.tokenize import TweetTokenizer\n",
    "# Write a pattern that matches both mentions (@) and hashtags\n",
    "pattern2 = r\"([@#]\\w+)\"\n",
    "# Use the pattern on the last tweet in the tweets list\n",
    "mentions_hashtags = regexp_tokenize(tweets[-1], pattern2)\n",
    "print(mentions_hashtags)"
   ]
  },
  {
   "cell_type": "code",
   "execution_count": 45,
   "metadata": {},
   "outputs": [
    {
     "name": "stdout",
     "output_type": "stream",
     "text": [
      "[['This', 'is', 'the', 'best', '#nlp', 'exercise', 'ive', 'found', 'online', '!', '#python'], ['#NLP', 'is', 'super', 'fun', '!', '<3', '#learning'], ['Thanks', '@datacamp', ':)', '#nlp', '#python']]\n"
     ]
    }
   ],
   "source": [
    "# Import the necessary modules\n",
    "from nltk.tokenize import regexp_tokenize\n",
    "from nltk.tokenize import TweetTokenizer\n",
    "# Use the TweetTokenizer to tokenize all tweets into one list\n",
    "tknzr = TweetTokenizer()\n",
    "all_tokens = [tknzr.tokenize(t) for t in tweets]\n",
    "print(all_tokens)"
   ]
  },
  {
   "cell_type": "code",
   "execution_count": 46,
   "metadata": {},
   "outputs": [
    {
     "name": "stdout",
     "output_type": "stream",
     "text": [
      "['Wann', 'gehen', 'wir', 'Pizza', 'essen', '?', '🍕', 'Und', 'fährst', 'du', 'mit', 'Über', '?', '🚕']\n",
      "['Wann', 'Pizza', 'Und', 'Über']\n",
      "['🍕', '🚕']\n"
     ]
    }
   ],
   "source": [
    "# Tokenize and print all words in german_text\n",
    "\n",
    "german_text = 'Wann gehen wir Pizza essen? 🍕 Und fährst du mit Über? 🚕'\n",
    "\n",
    "all_words = word_tokenize(german_text)\n",
    "print(all_words)\n",
    "\n",
    "# Tokenize and print only capital words\n",
    "capital_words = r\"[A-ZÜ]\\w+\"\n",
    "print(regexp_tokenize(german_text, capital_words))\n",
    "\n",
    "# Tokenize and print only emoji\n",
    "emoji = \"['\\U0001F300-\\U0001F5FF'|'\\U0001F600-\\U0001F64F'|'\\U0001F680-\\U0001F6FF'|'\\u2600-\\u26FF\\u2700-\\u27BF']\"\n",
    "print(regexp_tokenize(german_text, emoji))"
   ]
  },
  {
   "cell_type": "code",
   "execution_count": 49,
   "metadata": {},
   "outputs": [
    {
     "name": "stdout",
     "output_type": "stream",
     "text": [
      "['Hello', 'hello', 'there', ',', 'my', 'name', 'is', 'Christine', '!']\n"
     ]
    }
   ],
   "source": [
    "from matplotlib import pyplot as plt\n",
    "from nltk.tokenize import word_tokenize\n",
    "words = word_tokenize(\"Hello hello there, my name is Christine!\")\n",
    "words_length = [len(w) for w in words]\n",
    "\n",
    "print(words)"
   ]
  },
  {
   "cell_type": "code",
   "execution_count": null,
   "metadata": {},
   "outputs": [],
   "source": [
    "# "
   ]
  },
  {
   "cell_type": "code",
   "execution_count": 64,
   "metadata": {},
   "outputs": [
    {
     "name": "stdout",
     "output_type": "stream",
     "text": [
      "[(',', 12), ('debugging', 3), ('the', 3), ('of', 3), ('computer', 3), ('a', 3), ('(', 3), (')', 3), ('process', 2), ('and', 2)]\n"
     ]
    }
   ],
   "source": [
    "# Import Counter\n",
    "from collections import Counter\n",
    "\n",
    "# Article:\n",
    "article = \"Debugging is the process of finding and resolving of defects that prevent correct operation of computer software or a system.  \\\n",
    "    Numerous books have been written about debugging (see below: #Further reading|Further reading), as it involves numerous aspects, including interactive debugging, control flow, \\\n",
    "integration testing, Logfile|log files, monitoring (Application monitoring|application, System Monitoring|system), memory dumps, Profiling (computer programming)|profiling, \\\n",
    "    Statistical Process Control, and special design tactics to improve detection while simplifying changes.\\n\\nOrigin\\nA computer log entry from the Mark&nbsp;II, with a moth taped to the page\"\n",
    "\n",
    "# Tokenize the article: tokens\n",
    "tokens = word_tokenize(article)\n",
    "\n",
    "# Convert the tokens into lowercase: lower_tokens\n",
    "lower_tokens = [t.lower() for t in tokens]\n",
    "\n",
    "# Create a Counter with the lowercase tokens: bow_simple\n",
    "# You want to use Counter to count the occurrences of each item in the lower_tokens\n",
    "bow_simple = Counter(lower_tokens)\n",
    "\n",
    "# Print the 10 most common tokens\n",
    "print(bow_simple.most_common(10))\n",
    "\n",
    "# print(lower_tokens)"
   ]
  },
  {
   "cell_type": "code",
   "execution_count": null,
   "metadata": {},
   "outputs": [],
   "source": []
  },
  {
   "cell_type": "code",
   "execution_count": 58,
   "metadata": {},
   "outputs": [
    {
     "name": "stderr",
     "output_type": "stream",
     "text": [
      "[nltk_data] Downloading package wordnet to\n",
      "[nltk_data]     C:\\Users\\chris\\AppData\\Roaming\\nltk_data...\n",
      "[nltk_data]   Package wordnet is already up-to-date!\n",
      "[nltk_data] Downloading package omw-1.4 to\n",
      "[nltk_data]     C:\\Users\\chris\\AppData\\Roaming\\nltk_data...\n"
     ]
    },
    {
     "data": {
      "text/plain": [
       "True"
      ]
     },
     "execution_count": 58,
     "metadata": {},
     "output_type": "execute_result"
    }
   ],
   "source": [
    "# Simple Text processing:\n",
    "# Remove puncutation\n",
    "\n",
    "# Install these to use lemmatization and other nltk.stem\n",
    "nltk.download('wordnet')\n",
    "nltk.download('omw-1.4')"
   ]
  },
  {
   "cell_type": "code",
   "execution_count": 60,
   "metadata": {},
   "outputs": [
    {
     "name": "stdout",
     "output_type": "stream",
     "text": [
      "[('of', 3), ('debugging', 1), ('is', 1), ('the', 1), ('process', 1), ('finding', 1), ('and', 1), ('resolving', 1), ('defect', 1), ('that', 1)]\n"
     ]
    }
   ],
   "source": [
    "# Import WordNetLemmatizer\n",
    "from nltk.stem import WordNetLemmatizer\n",
    "\n",
    "english_stops = ['i',\n",
    " 'me',\n",
    " 'my',\n",
    " 'myself',\n",
    " 'we',\n",
    " 'our',\n",
    " 'ours',\n",
    " 'ourselves',\n",
    " 'you',\n",
    " 'your',\n",
    " 'yours',\n",
    " 'yourself',\n",
    " 'yourselves',\n",
    " 'he',\n",
    " 'him',\n",
    " 'his',\n",
    " 'himself',\n",
    " 'she',\n",
    " 'her',\n",
    " 'hers',\n",
    " 'herself']\n",
    "\n",
    "lower_tokens = [\"'\",\n",
    " \"''\",\n",
    " 'debugging',\n",
    " \"''\",\n",
    " \"'\",\n",
    " 'is',\n",
    " 'the',\n",
    " 'process',\n",
    " 'of',\n",
    " 'finding',\n",
    " 'and',\n",
    " 'resolving',\n",
    " 'of',\n",
    " 'defects',\n",
    " 'that',\n",
    " 'prevent',\n",
    " 'correct',\n",
    " 'operation',\n",
    " 'of',\n",
    " 'computer',\n",
    " 'software',\n",
    " 'or',\n",
    " 'a',\n",
    " 'system',\n",
    " '.']\n",
    "\n",
    "# Retain alphabetic words: alpha_only - \n",
    "alpha_only = [t for t in lower_tokens if t.isalpha()]\n",
    "\n",
    "# Remove all stop words: no_stops\n",
    "no_stops = [t for t in alpha_only if t not in english_stops]\n",
    "\n",
    "# Instantiate the WordNetLemmatizer - set the Object\n",
    "wordnet_lemmatizer = WordNetLemmatizer()\n",
    "\n",
    "# Lemmatize all tokens into a new list: lemmatized\n",
    "lemmatized = [wordnet_lemmatizer.lemmatize(t) for t in no_stops]\n",
    "\n",
    "# Create the bag-of-words: bow\n",
    "bow = Counter(lemmatized)\n",
    "\n",
    "# Print the 10 most common tokens\n",
    "print(bow.most_common(10))"
   ]
  }
 ],
 "metadata": {
  "kernelspec": {
   "display_name": "base",
   "language": "python",
   "name": "python3"
  },
  "language_info": {
   "codemirror_mode": {
    "name": "ipython",
    "version": 3
   },
   "file_extension": ".py",
   "mimetype": "text/x-python",
   "name": "python",
   "nbconvert_exporter": "python",
   "pygments_lexer": "ipython3",
   "version": "2022.10.undefined"
  }
 },
 "nbformat": 4,
 "nbformat_minor": 2
}
