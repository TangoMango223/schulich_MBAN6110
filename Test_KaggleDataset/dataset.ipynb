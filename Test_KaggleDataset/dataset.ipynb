{
 "cells": [
  {
   "cell_type": "markdown",
   "metadata": {},
   "source": [
    "# Introduction & Extraction"
   ]
  },
  {
   "cell_type": "code",
   "execution_count": 71,
   "metadata": {},
   "outputs": [
    {
     "name": "stdout",
     "output_type": "stream",
     "text": [
      "Requirement already satisfied: kaggle in /Users/christine/anaconda3/lib/python3.11/site-packages (1.6.14)\n",
      "Requirement already satisfied: six>=1.10 in /Users/christine/anaconda3/lib/python3.11/site-packages (from kaggle) (1.16.0)\n",
      "Requirement already satisfied: certifi>=2023.7.22 in /Users/christine/anaconda3/lib/python3.11/site-packages (from kaggle) (2024.6.2)\n",
      "Requirement already satisfied: python-dateutil in /Users/christine/anaconda3/lib/python3.11/site-packages (from kaggle) (2.9.0.post0)\n",
      "Requirement already satisfied: requests in /Users/christine/anaconda3/lib/python3.11/site-packages (from kaggle) (2.32.2)\n",
      "Requirement already satisfied: tqdm in /Users/christine/anaconda3/lib/python3.11/site-packages (from kaggle) (4.66.4)\n",
      "Requirement already satisfied: python-slugify in /Users/christine/anaconda3/lib/python3.11/site-packages (from kaggle) (5.0.2)\n",
      "Requirement already satisfied: urllib3 in /Users/christine/anaconda3/lib/python3.11/site-packages (from kaggle) (2.2.1)\n",
      "Requirement already satisfied: bleach in /Users/christine/anaconda3/lib/python3.11/site-packages (from kaggle) (4.1.0)\n",
      "Requirement already satisfied: packaging in /Users/christine/anaconda3/lib/python3.11/site-packages (from bleach->kaggle) (23.2)\n",
      "Requirement already satisfied: webencodings in /Users/christine/anaconda3/lib/python3.11/site-packages (from bleach->kaggle) (0.5.1)\n",
      "Requirement already satisfied: text-unidecode>=1.3 in /Users/christine/anaconda3/lib/python3.11/site-packages (from python-slugify->kaggle) (1.3)\n",
      "Requirement already satisfied: charset-normalizer<4,>=2 in /Users/christine/anaconda3/lib/python3.11/site-packages (from requests->kaggle) (2.0.4)\n",
      "Requirement already satisfied: idna<4,>=2.5 in /Users/christine/anaconda3/lib/python3.11/site-packages (from requests->kaggle) (3.7)\n"
     ]
    }
   ],
   "source": [
    "# Set up kaggle - Run this if kaggle resource not installed yet\n",
    "!pip install kaggle"
   ]
  },
  {
   "cell_type": "code",
   "execution_count": 72,
   "metadata": {},
   "outputs": [],
   "source": [
    "# Import statements\n",
    "import numpy as np\n",
    "import matplotlib.pyplot as plt\n",
    "import scipy.stats as stats\n",
    "import pandas as pd\n",
    "\n",
    "# Packages for Kaggle API\n",
    "import os\n",
    "import subprocess\n",
    "import zipfile\n",
    "import glob"
   ]
  },
  {
   "cell_type": "code",
   "execution_count": 73,
   "metadata": {},
   "outputs": [],
   "source": [
    "# Location of Kaggle API json file\n",
    "kaggle_api_path = \"/Users/christine/Desktop/API_Keys/kaggle.json\""
   ]
  },
  {
   "cell_type": "code",
   "execution_count": 74,
   "metadata": {},
   "outputs": [],
   "source": [
    "# Set up permissions to allow use of API key\n",
    "os.chmod(kaggle_api_path, 0o600)"
   ]
  },
  {
   "cell_type": "code",
   "execution_count": 75,
   "metadata": {},
   "outputs": [],
   "source": [
    "# Define commandu sed\n",
    "dataset_name = \"amazon-prime-userbase-dataset\"\n",
    "\n",
    "# Set up command\n",
    "command = \"kaggle datasets download -d arnavsmayan/amazon-prime-userbase-dataset\""
   ]
  },
  {
   "cell_type": "code",
   "execution_count": 76,
   "metadata": {},
   "outputs": [
    {
     "name": "stdout",
     "output_type": "stream",
     "text": [
      "Dataset URL: https://www.kaggle.com/datasets/arnavsmayan/amazon-prime-userbase-dataset\n",
      "License(s): CC0-1.0\n",
      "amazon-prime-userbase-dataset.zip: Skipping, found more recently modified local copy (use --force to force download)\n",
      "\n"
     ]
    }
   ],
   "source": [
    "# Execute command:\n",
    "# Execute the command using subprocess\n",
    "try:\n",
    "\tresult = subprocess.run(command, shell=True, check=True, stdout=subprocess.PIPE, stderr=subprocess.PIPE)\n",
    "\tprint(result.stdout.decode('utf-8'))\n",
    "except subprocess.CalledProcessError as e:\n",
    "\tprint(f\"Error downloading dataset: {e.stderr.decode('utf-8')}\")\n"
   ]
  },
  {
   "cell_type": "code",
   "execution_count": 77,
   "metadata": {},
   "outputs": [
    {
     "name": "stdout",
     "output_type": "stream",
     "text": [
      "['amazon-prime-userbase-dataset.zip']\n"
     ]
    }
   ],
   "source": [
    "# Grab all zipped files\n",
    "zip_files = glob.glob(\"*zip\")\n",
    "\n",
    "print(zip_files)"
   ]
  },
  {
   "cell_type": "code",
   "execution_count": 78,
   "metadata": {},
   "outputs": [],
   "source": [
    "# Unzip them all:\n",
    "for zip_file in zip_files:\n",
    "    with zipfile.ZipFile(zip_file, \"r\") as zip_ref:\n",
    "        zip_ref.extractall(\"/Users/christine/VSCode/MBAN 6110 - remote/schulich_MBAN6110/Test_KaggleDataset\")"
   ]
  }
 ],
 "metadata": {
  "kernelspec": {
   "display_name": "base",
   "language": "python",
   "name": "python3"
  },
  "language_info": {
   "codemirror_mode": {
    "name": "ipython",
    "version": 3
   },
   "file_extension": ".py",
   "mimetype": "text/x-python",
   "name": "python",
   "nbconvert_exporter": "python",
   "pygments_lexer": "ipython3",
   "version": "3.11.9"
  }
 },
 "nbformat": 4,
 "nbformat_minor": 2
}
